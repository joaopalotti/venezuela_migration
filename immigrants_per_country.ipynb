{
 "cells": [
  {
   "cell_type": "code",
   "execution_count": 27,
   "metadata": {
    "ExecuteTime": {
     "end_time": "2018-07-17T18:58:32.542023Z",
     "start_time": "2018-07-17T18:58:32.515706Z"
    }
   },
   "outputs": [],
   "source": [
    "import json\n",
    "import pandas as pd\n",
    "import ast\n",
    "import datetime"
   ]
  },
  {
   "cell_type": "code",
   "execution_count": 28,
   "metadata": {
    "ExecuteTime": {
     "end_time": "2018-07-17T18:58:33.421705Z",
     "start_time": "2018-07-17T18:58:33.414930Z"
    },
    "code_folding": [
     0,
     10,
     13,
     20,
     37,
     46
    ]
   },
   "outputs": [],
   "source": [
    "def display(value):\n",
    "    s = str(value)\n",
    "    if len(s) >=4 and len(s)  <= 6:\n",
    "        return s[0:len(s) - 3] + \"K\"\n",
    "    elif len(s) >=7 and len(s)  <= 9:\n",
    "        return s[0:len(s) - 6] + \"M\"\n",
    "    elif len(s) >=10 and len(s)  <= 12:\n",
    "        return s[0:len(s) - 9] + \"B\"\n",
    "    return value \n",
    "\n",
    "def convert_unixtime(utime):\n",
    "    return (datetime.datetime.fromtimestamp(int(utime)).strftime('%d-%m'))\n",
    "\n",
    "def convert_country_code(code):\n",
    "    mapping = {\"CO\":\"Colombia\", \"BR\": \"Brazil\", \"VE\": \"Venezuela\", \"PE\": \"Peru\", \"UY\": \"Uruguay\", \n",
    "               \"PY\": \"Paraguay\", \"PA\": \"Panama\", \"CL\": \"Chile\", \"EC\":\"Ecuador\", \"AR\": \"Argentina\",\n",
    "               \"CR\": \"Costa Rica\", \"GY\": \"Guyana\", \"MX\": \"Mexico\", \"US\": \"United States\",  \n",
    "              }\n",
    "    return mapping[code]\n",
    "\n",
    "def cut(df, col, values, savedcols= ['Location', 'dau_audience', 'mau_audience']):\n",
    "    df_slice = {}\n",
    "    \n",
    "    for i, v in enumerate(values):\n",
    "        df_slice[i] = df[df[col] == v][savedcols]\n",
    "    \n",
    "    merge = pd.merge(df_slice[0], df_slice[1], on=[\"Location\"], suffixes=(\"_%s\" % (values[0]), \"_%s\" % (values[1])))\n",
    "    for i in range(2, len(values)):\n",
    "        #print(\"Adding suffix for:\" + values[i])\n",
    "        merge = pd.merge(merge, df_slice[i], on=[\"Location\"], suffixes=(\"\", \"_%s\" % (values[i])))\n",
    "        \n",
    "    if len(values) > 2:\n",
    "        # Fix information for the second group.\n",
    "        merge[\"audience_%s\" % (values[2])] = merge[\"audience\"]\n",
    "        del merge[\"audience\"]\n",
    "    return merge   \n",
    "\n",
    "def copy_rename(df, oldname, newname):\n",
    "    return df.rename(columns={oldname: newname}).copy() \n",
    "\n",
    "def get_slice(dfin, col, values, frequency=\"mau\"):\n",
    "    dfout = copy_rename(dfin, '%s_audience' % (frequency), \"audience\")\n",
    "    dfout = cut(dfout, col, values, savedcols=['Location', 'audience'])\n",
    "    dfout[\"Frequency\"] = \"Daily\" if frequency == \"dau\" else \"Monthly\"\n",
    "    return dfout\n",
    "\n",
    "def calculate_percentages(df, cols, prefix):\n",
    "    totals = df.sum(axis=1)\n",
    "    for col in cols:\n",
    "        df[prefix + \"audience_\" + col] = df[\"audience_\" + col] * 100. / totals\n",
    "        df[prefix + \"audience_\" + col] = df[\"audience_\" + col] * 100. / totals"
   ]
  },
  {
   "cell_type": "code",
   "execution_count": 29,
   "metadata": {
    "ExecuteTime": {
     "end_time": "2018-07-17T18:58:34.213234Z",
     "start_time": "2018-07-17T18:58:34.110648Z"
    }
   },
   "outputs": [
    {
     "name": "stdout",
     "output_type": "stream",
     "text": [
      "Collection made in 16-07\n"
     ]
    }
   ],
   "source": [
    "#infile = \"./collections/immigrants/dataframe_collected_finished_1531383976.csv.gz\"  # 12-07\n",
    "#infile = \"./collections/immigrants/dataframe_collected_finished_1531404806.csv.gz\"  # 12-07\n",
    "#infile = \"./collections/immigrants/dataframe_collected_finished_1531408020.csv.gz\"  # 12-07\n",
    "infile = \"./collections/immigrants/dataframe_collected_finished_1531730873.csv.gz\"  # 16-07\n",
    "\n",
    "df = pd.read_csv(infile)\n",
    "df[\"CollectionDay\"] = df[\"timestamp\"].apply(lambda x: convert_unixtime(x))\n",
    "print(\"Collection made in %s\" % (df[\"CollectionDay\"].head()[0]))"
   ]
  },
  {
   "cell_type": "code",
   "execution_count": 30,
   "metadata": {
    "ExecuteTime": {
     "end_time": "2018-07-17T18:58:35.494668Z",
     "start_time": "2018-07-17T18:58:34.619224Z"
    },
    "code_folding": [
     0,
     10,
     22,
     31,
     46,
     75,
     82,
     86,
     89
    ],
    "run_control": {
     "marked": true
    }
   },
   "outputs": [
    {
     "name": "stdout",
     "output_type": "stream",
     "text": [
      "Updating Group information...\n",
      "Removing redundant cols\n",
      "All Done!\n"
     ]
    }
   ],
   "source": [
    "def extract_relationship(d):\n",
    "    if 1 in d:\n",
    "        return \"single\"\n",
    "    elif 2 in d:\n",
    "        return \"dating\"\n",
    "    elif 3 in d:\n",
    "        return \"married\"\n",
    "    else:\n",
    "        return None\n",
    "\n",
    "def extract_education(d):\n",
    "    if d == [3, 7, 8, 9, 11]:\n",
    "        return \"graduated\"\n",
    "    elif d == [1, 12, 13]:\n",
    "        return \"no_degree\"\n",
    "    elif d == [2, 4, 5, 6, 10]:\n",
    "        return \"high_school\"\n",
    "    elif d == [1, 2, 3, 4, 5, 6, 7, 8, 9, 10, 11, 12, 13]:\n",
    "        return \"all\"\n",
    "    else:\n",
    "        return None\n",
    "\n",
    "def extract_group(d):\n",
    "    id = d[0][\"id\"]\n",
    "    if id == 6026404871583:\n",
    "        return \"Expats (Venezuela)\"\n",
    "    elif id == 6015559470583:\n",
    "        return \"Ex-pats (All)\"\n",
    "    else:\n",
    "        return \"All\"\n",
    "\n",
    "def agebuckets(minage, maxage):\n",
    "    if minage == 13 and (maxage is None or np.isnan(maxage)):\n",
    "        return \"all\"\n",
    "    elif minage == 13 and maxage == 18:\n",
    "        return \"adolecent\"\n",
    "    elif minage == 19 and maxage == 25:\n",
    "        return \"young_adult\"\n",
    "    elif minage == 26 and maxage == 40:\n",
    "        return \"adult\"\n",
    "    elif minage == 41 and maxage == 65:\n",
    "        return \"middle_age\"\n",
    "    elif minage == 65 and (maxage is None or np.isnan(maxage)):\n",
    "        return \"elder\"\n",
    "    return \"undefined\"\n",
    "    \n",
    "def expand(row):\n",
    "    place = None\n",
    "    loc_dimension = None\n",
    "    if \"regions\" in row[\"geo_locations\"]:\n",
    "        place = \"%s, %s\" % (row[\"geo_locations\"][\"regions\"][0][\"name\"], convert_country_code(row[\"geo_locations\"][\"regions\"][0][\"country_code\"]))\n",
    "        loc_dimension = \"State\"\n",
    "    elif \"countries\" in row[\"geo_locations\"]:\n",
    "        place = convert_country_code(row[\"geo_locations\"][\"countries\"][0])\n",
    "        loc_dimension = \"Country\"\n",
    "    elif \"cities\" in row[\"geo_locations\"]:\n",
    "        place = \"%s, %s, %s\" % (row[\"geo_locations\"][\"cities\"][0][\"name\"], row[\"geo_locations\"][\"cities\"][0][\"region\"], convert_country_code(row[\"geo_locations\"][\"cities\"][0][\"country\"]))\n",
    "        loc_dimension = \"City\"\n",
    "    \n",
    "    loctype = \"_\".join(row[\"geo_locations\"][\"location_types\"])\n",
    "\n",
    "    relationship, education, group = None, None, None\n",
    "    for dimension in row[\"flexible_spec\"]:\n",
    "        if \"relationship_statuses\" in dimension:\n",
    "            relationship = extract_relationship(dimension[\"relationship_statuses\"])\n",
    "        elif \"education_statuses\" in dimension:\n",
    "            education = extract_education(dimension[\"education_statuses\"])\n",
    "        elif \"behaviors\" in dimension:\n",
    "            group = extract_group(dimension[\"behaviors\"])\n",
    "    \n",
    "    gender = row[\"genders\"][0]\n",
    "    gender = \"both\" if gender == 0 else \"man\" if gender == 1 else \"woman\"\n",
    "    \n",
    "    return row[\"age_min\"], row[\"age_max\"], place, loc_dimension, loctype, gender, relationship, education, group\n",
    "\n",
    "def get_item(x):\n",
    "    if not x:\n",
    "        return None\n",
    "    return x[\"name\"]\n",
    "\n",
    "df[[\"MinAge\",\"MaxAge\",\"Location\",\"LocationHierarchy\",\"LocationType\",\"Gender\",\"Relationship\",\"Education\",\"Group\"]] = df[\"targeting\"].apply(lambda x : expand(ast.literal_eval(x))).apply(pd.Series)\n",
    "\n",
    "if \"citizenship\" in df:\n",
    "    df[\"Group\"] = df[\"citizenship\"].fillna(\"[]\").apply(lambda x : get_item(ast.literal_eval(x)))\n",
    "    print(\"Updating Group information...\")\n",
    "    \n",
    "if \"access_device\" in df:\n",
    "    df[\"Device\"] = df[\"access_device\"].fillna(\"[]\").apply(lambda x : get_item(ast.literal_eval(x)))\n",
    "    print(\"Adding information regarding devices...\")\n",
    "else:\n",
    "    df[\"Device\"] = None\n",
    "    \n",
    "df[\"AgeBucket\"] = df[[\"MinAge\",\"MaxAge\"]].apply(lambda x: agebuckets(x[\"MinAge\"], x[\"MaxAge\"]), axis=1)\n",
    "\n",
    "print(\"Removing redundant cols\")\n",
    "for col in [\"Unnamed: 0\", \"all_fields\", \"targeting\",'behavior', 'citizenship', \"mock_response\", \"access_device\", \n",
    "            \"ages_ranges\", \"household_composition\", 'interests', 'family_statuses', 'genders', 'geo_locations', 'languages',\n",
    "            'name', 'relationship_statuses', 'response', 'scholarities', 'timestamp', 'publisher_platforms',]:\n",
    "    if col in df.keys():\n",
    "        del df[col]\n",
    "\n",
    "# Gave up using travel_in   \n",
    "df = df[df[\"LocationType\"] != \"travel_in\"]\n",
    "\n",
    "print(\"All Done!\")\n",
    "# Brief description: \n",
    "# -----------------\n",
    "# Gender: 0 Both, 1 Man, 2 Woman\n",
    "# Age: 13-Null, 13-18, 19-25, 26-40, 41-65, 65+\n",
    "# LocationType: home_recent, home, recent\n"
   ]
  },
  {
   "cell_type": "code",
   "execution_count": 31,
   "metadata": {
    "ExecuteTime": {
     "end_time": "2018-07-17T18:58:36.399605Z",
     "start_time": "2018-07-17T18:58:36.323934Z"
    }
   },
   "outputs": [],
   "source": [
    "dfgender = {}\n",
    "dfcut = df[(df[\"Gender\"].apply(lambda x : x in [\"man\",\"woman\"])) & (df[\"Education\"].isnull()) & (df[\"Device\"].isnull()) & (df[\"AgeBucket\"] == \"all\") & (df[\"Group\"] == \"Expats (Venezuela)\") & (df[\"LocationType\"] == \"home_recent\")].copy()\n",
    "dfgender[\"mau\"] = get_slice(dfcut, \"Gender\", [\"man\",\"woman\"], frequency=\"mau\")\n",
    "dfgender[\"dau\"] = get_slice(dfcut, \"Gender\", [\"man\",\"woman\"], frequency=\"dau\")\n",
    "calculate_percentages(dfgender[\"mau\"], [\"man\",\"woman\"], \"%\")\n",
    "calculate_percentages(dfgender[\"dau\"], [\"man\",\"woman\"], \"%\")"
   ]
  },
  {
   "cell_type": "code",
   "execution_count": 32,
   "metadata": {
    "ExecuteTime": {
     "end_time": "2018-07-17T18:58:36.802595Z",
     "start_time": "2018-07-17T18:58:36.682036Z"
    }
   },
   "outputs": [],
   "source": [
    "df_gender_locals = {}\n",
    "dfcut = df[(df[\"Gender\"].apply(lambda x : x in [\"man\",\"woman\"])) & (df[\"Education\"].isnull()) & (df[\"Device\"].isnull()) \n",
    "           & (df[\"AgeBucket\"] == \"all\") & (df[\"Group\"].isnull()) & (df[\"LocationType\"] == \"home_recent\") ].copy()\n",
    "\n",
    "df_gender_locals[\"mau\"] = get_slice(dfcut, \"Gender\", [\"man\",\"woman\"], frequency=\"mau\") \n",
    "df_gender_locals[\"dau\"] = get_slice(dfcut, \"Gender\", [\"man\",\"woman\"], frequency=\"dau\")\n",
    "\n",
    "calculate_percentages(df_gender_locals[\"mau\"], [\"man\",\"woman\"], \"%locals_\")\n",
    "calculate_percentages(df_gender_locals[\"dau\"], [\"man\",\"woman\"], \"%locals_\")\n",
    "\n",
    "for col in [\"man\",\"woman\"]:\n",
    "    del df_gender_locals[\"mau\"][\"audience_\" + col]\n",
    "    del df_gender_locals[\"dau\"][\"audience_\" + col]\n"
   ]
  },
  {
   "cell_type": "code",
   "execution_count": 33,
   "metadata": {
    "ExecuteTime": {
     "end_time": "2018-07-17T18:58:37.509533Z",
     "start_time": "2018-07-17T18:58:37.322601Z"
    }
   },
   "outputs": [],
   "source": [
    "immigrant_groups = ['Expats (Venezuela)', u'Expats (United States)', u'Expats (Mexico)', u'Expats (Brazil)', u'Expats (Argentina)', \n",
    "                    u'Expats (Peru)', u'Expats (Chile)', u'Expats (Spain)', u'Expats (France)', u'Expats (United Kingdom)', u'Expats (Colombia)', \n",
    "                    u'Expats (Cuba)', u'Expats (Germany)', u'Expats (Italy)', u'Expats (Portugal)', u'Expats (Jamaica)', 'Expats (China)']\n",
    "df_immi_place = {}\n",
    "dfcut = df[(df[\"Group\"].apply(lambda x: x in immigrant_groups)) & (df[\"Gender\"] == \"both\") & (df[\"Education\"].isnull()) & \n",
    "           (df[\"Device\"].isnull()) & (df[\"AgeBucket\"] == \"all\") & (df[\"LocationType\"] == \"home_recent\")].copy()\n",
    "df_immi_place[\"mau\"] = get_slice(dfcut, \"Group\", immigrant_groups, frequency=\"mau\")\n",
    "df_immi_place[\"dau\"] = get_slice(dfcut, \"Group\", immigrant_groups, frequency=\"dau\")\n",
    "\n",
    "calculate_percentages(df_immi_place[\"mau\"], immigrant_groups, \"%\")\n",
    "calculate_percentages(df_immi_place[\"dau\"], immigrant_groups, \"%\")\n"
   ]
  },
  {
   "cell_type": "code",
   "execution_count": 73,
   "metadata": {
    "ExecuteTime": {
     "end_time": "2018-07-17T19:07:40.719311Z",
     "start_time": "2018-07-17T19:07:40.684670Z"
    },
    "code_folding": []
   },
   "outputs": [
    {
     "name": "stdout",
     "output_type": "stream",
     "text": [
      "%audience_Expats (Venezuela)\n",
      "%audience_Expats (United States)\n",
      "%audience_Expats (Mexico)\n",
      "%audience_Expats (Brazil)\n",
      "%audience_Expats (Argentina)\n",
      "%audience_Expats (Peru)\n",
      "%audience_Expats (Chile)\n",
      "%audience_Expats (Spain)\n",
      "%audience_Expats (France)\n",
      "%audience_Expats (United Kingdom)\n",
      "%audience_Expats (Colombia)\n",
      "%audience_Expats (Cuba)\n",
      "%audience_Expats (Germany)\n",
      "%audience_Expats (Italy)\n",
      "%audience_Expats (Portugal)\n",
      "%audience_Expats (Jamaica)\n",
      "%audience_Expats (China)\n"
     ]
    }
   ],
   "source": [
    "dffinal = pd.concat([df_immi_place[\"mau\"], df_immi_place[\"dau\"]])\n",
    "\n",
    "for col in dffinal.keys():\n",
    "    if col.startswith(\"%\"):\n",
    "        print(col)\n",
    "        dffinal[col] = dffinal[col].round(2)\n",
    "\n",
    "audience_group = []\n",
    "for group in immigrant_groups:\n",
    "    audience_group += [\"audience_\" + group]\n",
    "dffinal[\"summary_total_immigrants\"] = dffinal[audience_group].sum(axis=1)        \n",
    "\n",
    "dffinal[\"display_total_immigrants\"] = dffinal[\"summary_total_immigrants\"].apply(lambda x: display(x))\n",
    "dffinal.to_csv(\"immigrants_07_17.csv\", index=False)"
   ]
  },
  {
   "cell_type": "code",
   "execution_count": null,
   "metadata": {},
   "outputs": [],
   "source": []
  }
 ],
 "metadata": {
  "kernelspec": {
   "display_name": "Python 3",
   "language": "python",
   "name": "python3"
  },
  "language_info": {
   "codemirror_mode": {
    "name": "ipython",
    "version": 3
   },
   "file_extension": ".py",
   "mimetype": "text/x-python",
   "name": "python",
   "nbconvert_exporter": "python",
   "pygments_lexer": "ipython3",
   "version": "3.6.5"
  },
  "varInspector": {
   "cols": {
    "lenName": 16,
    "lenType": 16,
    "lenVar": 40
   },
   "kernels_config": {
    "python": {
     "delete_cmd_postfix": "",
     "delete_cmd_prefix": "del ",
     "library": "var_list.py",
     "varRefreshCmd": "print(var_dic_list())"
    },
    "r": {
     "delete_cmd_postfix": ") ",
     "delete_cmd_prefix": "rm(",
     "library": "var_list.r",
     "varRefreshCmd": "cat(var_dic_list()) "
    }
   },
   "types_to_exclude": [
    "module",
    "function",
    "builtin_function_or_method",
    "instance",
    "_Feature"
   ],
   "window_display": false
  }
 },
 "nbformat": 4,
 "nbformat_minor": 2
}
