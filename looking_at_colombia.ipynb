{
 "cells": [
  {
   "cell_type": "code",
   "execution_count": null,
   "metadata": {
    "ExecuteTime": {
     "end_time": "2018-06-20T08:34:45.580802Z",
     "start_time": "2018-06-20T08:34:45.566797Z"
    }
   },
   "outputs": [],
   "source": [
    "import json\n",
    "import pandas as pd\n",
    "import ast\n",
    "import datetime"
   ]
  },
  {
   "cell_type": "code",
   "execution_count": null,
   "metadata": {
    "ExecuteTime": {
     "end_time": "2018-06-20T08:34:46.611265Z",
     "start_time": "2018-06-20T08:34:46.608019Z"
    },
    "code_folding": [
     0,
     3
    ]
   },
   "outputs": [],
   "source": [
    "def convert_unixtime(utime):\n",
    "    return (datetime.datetime.fromtimestamp(int(utime)).strftime('%d-%m'))\n",
    "\n",
    "def convert_country_code(code):\n",
    "    mapping = {\"CO\":\"Colombia\", \"BR\": \"Brazil\", \"VE\": \"Venezuela\", \"PE\": \"Peru\", \"UY\": \"Uruguay\", \n",
    "               \"PY\": \"Paraguay\", \"PA\": \"Panama\", \"CL\": \"Chile\", \"EC\":\"Ecuador\", \"AR\": \"Argentina\",\n",
    "               \"CR\": \"Costa Rica\", \"GY\": \"Guyana\", \"MX\": \"Mexico\", \"US\": \"United States\",  \n",
    "              }\n",
    "    return mapping[code]\n",
    "    "
   ]
  },
  {
   "cell_type": "code",
   "execution_count": null,
   "metadata": {
    "ExecuteTime": {
     "end_time": "2018-06-20T09:04:16.086477Z",
     "start_time": "2018-06-20T09:04:14.053480Z"
    }
   },
   "outputs": [],
   "source": [
    "#infile = \"collections/colombia/dataframe_collected_finished_1526497778.csv.gz\" # From 16th May\n",
    "#infile = \"collections/colombia/dataframe_collected_finished_1526595686.csv.gz\" # From 18th May\n",
    "#infile = \"collections/colombia/dataframe_collected_finished_1526754549.csv.gz\" # From 19th May\n",
    "#infile = \"collections/colombia/dataframe_collected_finished_1527055300.csv.gz\" # From 23th May\n",
    "#infile = \"collections/colombia/dataframe_collected_finished_1527086071.csv.gz\" # From 23th May \n",
    "#infile = \"collections/colombia/dataframe_collected_finished_1527152527.csv.gz\" # From 24th May\n",
    "#infile = \"collections/colombia/dataframe_collected_finished_1527162372.csv.gz\" # From 24th May\n",
    "#infile = \"collections/colombia/dataframe_collected_finished_1527262566.csv.gz\" # From 25th May\n",
    "#infile = \"collections/colombia/dataframe_collected_finished_1527336923.csv.gz\" # From 26th May\n",
    "#infile = \"collections/colombia/dataframe_collected_finished_1527421314.csv.gz\" # From 27th May\n",
    "#infile = \"collections/colombia/dataframe_collected_finished_1527620434.csv.gz\" # From 28th May\n",
    "#infile = \"collections/colombia/dataframe_collected_finished_1527655611.csv.gz\" # From 29th May\n",
    "#infile = \"collections/colombia/dataframe_collected_finished_1527670079.csv.gz\" # From 30th May\n",
    "#infile = \"collections/colombia/dataframe_collected_finished_1527714408.csv.gz\" # From 31th May\n",
    "#infile = \"collections/colombia/dataframe_collected_finished_1527854965.csv.gz\" # From 1st June\n",
    "#infile = \"collections/colombia/dataframe_collected_finished_1528052984.csv.gz\" # From 3rd June\n",
    "#infile = \"collections/colombia/dataframe_collected_finished_1528190439.csv.gz\" # From 5th June\n",
    "#infile = \"collections/colombia/dataframe_collected_finished_1528297332.csv.gz\" # From 6th June\n",
    "#infile = \"collections/colombia/dataframe_collected_finished_1528410926.csv.gz\" # From 8th June\n",
    "#infile = \"collections/colombia/dataframe_collected_finished_1528531672.csv.gz\" # From 9th June\n",
    "#infile = \"collections/colombia/dataframe_collected_finished_1528635898.csv.gz\" # From 10th June\n",
    "#infile = \"collections/colombia/dataframe_collected_finished_1528793179.csv.gz\" # From 12th June\n",
    "#infile = \"collections/colombia/dataframe_collected_finished_1528925661.csv.gz\" # From 14th June\n",
    "#infile = \"collections/colombia/dataframe_collected_finished_1529055941.csv.gz\" # From 15th June\n",
    "#infile = \"collections/colombia/dataframe_collected_finished_1529181638.csv.gz\" # From 16th June\n",
    "infile = \"collections/colombia/dataframe_collected_finished_1529319680.csv.gz\" # From 18th June\n",
    "\n",
    "df = pd.read_csv(infile)\n",
    "#df[\"CollectionDay\"] = df[\"timestamp\"].apply(lambda x: convert_unixtime(x))\n",
    "#print(\"Collection made in %s\" % (df[\"CollectionDay\"].head()[0]))"
   ]
  },
  {
   "cell_type": "code",
   "execution_count": null,
   "metadata": {
    "ExecuteTime": {
     "end_time": "2018-06-20T09:05:02.491144Z",
     "start_time": "2018-06-20T09:04:16.867437Z"
    },
    "code_folding": [
     0,
     10,
     31,
     75
    ],
    "run_control": {
     "marked": true
    }
   },
   "outputs": [],
   "source": [
    "def extract_relationship(d):\n",
    "    if 1 in d:\n",
    "        return \"single\"\n",
    "    elif 2 in d:\n",
    "        return \"dating\"\n",
    "    elif 3 in d:\n",
    "        return \"married\"\n",
    "    else:\n",
    "        return None\n",
    "\n",
    "def extract_education(d):\n",
    "    if d == [3, 7, 8, 9, 11]:\n",
    "        return \"graduated\"\n",
    "    elif d == [1, 12, 13]:\n",
    "        return \"no_degree\"\n",
    "    elif d == [2, 4, 5, 6, 10]:\n",
    "        return \"high_school\"\n",
    "    elif d == [1, 2, 3, 4, 5, 6, 7, 8, 9, 10, 11, 12, 13]:\n",
    "        return \"all\"\n",
    "    else:\n",
    "        return None\n",
    "\n",
    "def extract_group(d):\n",
    "    id = d[0][\"id\"]\n",
    "    if id == 6026404871583:\n",
    "        return \"Expats (Venezuela)\"\n",
    "    elif id == 6015559470583:\n",
    "        return \"Ex-pats (All)\"\n",
    "    else:\n",
    "        return \"All\"\n",
    "\n",
    "def agebuckets(minage, maxage):\n",
    "    if minage == 13 and (maxage is None or np.isnan(maxage)):\n",
    "        return \"all\"\n",
    "    elif minage == 13 and maxage == 18:\n",
    "        return \"adolecent\"\n",
    "    elif minage == 19 and maxage == 25:\n",
    "        return \"young_adult\"\n",
    "    elif minage == 26 and maxage == 40:\n",
    "        return \"adult\"\n",
    "    elif minage == 41 and maxage == 65:\n",
    "        return \"middle_age\"\n",
    "    elif minage == 65 and (maxage is None or np.isnan(maxage)):\n",
    "        return \"elder\"\n",
    "    return \"undefined\"\n",
    "    \n",
    "def expand(row):\n",
    "    place = None\n",
    "    loc_dimension = None\n",
    "    if \"regions\" in row[\"geo_locations\"]:\n",
    "        place = \"%s, %s\" % (row[\"geo_locations\"][\"regions\"][0][\"name\"], convert_country_code(row[\"geo_locations\"][\"regions\"][0][\"country_code\"]))\n",
    "        loc_dimension = \"State\"\n",
    "    elif \"countries\" in row[\"geo_locations\"]:\n",
    "        place = convert_country_code(row[\"geo_locations\"][\"countries\"][0])\n",
    "        loc_dimension = \"Country\"\n",
    "    elif \"cities\" in row[\"geo_locations\"]:\n",
    "        place = \"%s, %s, %s\" % (row[\"geo_locations\"][\"cities\"][0][\"name\"], row[\"geo_locations\"][\"cities\"][0][\"region\"], convert_country_code(row[\"geo_locations\"][\"cities\"][0][\"country\"]))\n",
    "        loc_dimension = \"City\"\n",
    "    \n",
    "    loctype = \"_\".join(row[\"geo_locations\"][\"location_types\"])\n",
    "\n",
    "    relationship, education, group = None, None, None\n",
    "    for dimension in row[\"flexible_spec\"]:\n",
    "        if \"relationship_statuses\" in dimension:\n",
    "            relationship = extract_relationship(dimension[\"relationship_statuses\"])\n",
    "        elif \"education_statuses\" in dimension:\n",
    "            education = extract_education(dimension[\"education_statuses\"])\n",
    "        elif \"behaviors\" in dimension:\n",
    "            group = extract_group(dimension[\"behaviors\"])\n",
    "    \n",
    "    gender = row[\"genders\"][0]\n",
    "    gender = \"both\" if gender == 0 else \"man\" if gender == 1 else \"woman\"\n",
    "    \n",
    "    return row[\"age_min\"], row[\"age_max\"], place, loc_dimension, loctype, gender, relationship, education, group\n",
    "\n",
    "def get_item(x):\n",
    "    if not x:\n",
    "        return None\n",
    "    return x[\"name\"]\n",
    "\n",
    "df[[\"MinAge\",\"MaxAge\",\"Location\",\"LocationHierarchy\",\"LocationType\",\"Gender\",\"Relationship\",\"Education\",\"Group\"]] = df[\"targeting\"].apply(lambda x : expand(ast.literal_eval(x))).apply(pd.Series)\n",
    "\n",
    "if \"citizenship\" in df:\n",
    "    df[\"Group\"] = df[\"citizenship\"].fillna(\"[]\").apply(lambda x : get_item(ast.literal_eval(x)))\n",
    "    print(\"Updating Group information...\")\n",
    "    \n",
    "if \"access_device\" in df:\n",
    "    df[\"Device\"] = df[\"access_device\"].fillna(\"[]\").apply(lambda x : get_item(ast.literal_eval(x)))\n",
    "    print(\"Adding information regarding devices...\")\n",
    "else:\n",
    "    df[\"Device\"] = None\n",
    "    \n",
    "df[\"AgeBucket\"] = df[[\"MinAge\",\"MaxAge\"]].apply(lambda x: agebuckets(x[\"MinAge\"], x[\"MaxAge\"]), axis=1)\n",
    "\n",
    "print(\"Removing redundant cols\")\n",
    "for col in [\"Unnamed: 0\", \"all_fields\", \"targeting\",'behavior', 'citizenship', \"mock_response\", \"access_device\", \n",
    "            \"ages_ranges\", \"household_composition\", 'interests', 'family_statuses', 'genders', 'geo_locations', 'languages',\n",
    "            'name', 'relationship_statuses', 'response', 'scholarities', 'timestamp', 'publisher_platforms',]:\n",
    "    if col in df.keys():\n",
    "        del df[col]\n",
    "\n",
    "print(\"All Done!\")\n",
    "# Brief description: \n",
    "# -----------------\n",
    "# Gender: 0 Both, 1 Man, 2 Woman\n",
    "# Age: 13-Null, 13-18, 19-25, 26-40, 40,65, 65+\n",
    "# LocationType: home_recent, home, recent\n"
   ]
  },
  {
   "cell_type": "code",
   "execution_count": null,
   "metadata": {
    "ExecuteTime": {
     "end_time": "2018-06-20T09:05:03.077434Z",
     "start_time": "2018-06-20T09:05:03.072076Z"
    },
    "code_folding": [
     0,
     3,
     11,
     17,
     20
    ]
   },
   "outputs": [],
   "source": [
    "def cut(df, col, values, savedcols= ['Location', 'dau_audience', 'mau_audience']):\n",
    "    df_slice = {}\n",
    "    \n",
    "    for i, v in enumerate(values):\n",
    "        df_slice[i] = df[df[col] == v][savedcols]\n",
    "    \n",
    "    merge = pd.merge(df_slice[0], df_slice[1], on=[\"Location\"], suffixes=(\"_%s\" % (values[0]), \"_%s\" % (values[1])))\n",
    "    for i in range(2, len(values)):\n",
    "        #print(\"Adding suffix for:\" + values[i])\n",
    "        merge = pd.merge(merge, df_slice[i], on=[\"Location\"], suffixes=(\"\", \"_%s\" % (values[i])))\n",
    "        \n",
    "    if len(values) > 2:\n",
    "        # Fix information for the second group.\n",
    "        merge[\"audience_%s\" % (values[2])] = merge[\"audience\"]\n",
    "        del merge[\"audience\"]\n",
    "    return merge   \n",
    "\n",
    "def copy_rename(df, oldname, newname):\n",
    "    return df.rename(columns={oldname: newname}).copy() \n",
    "\n",
    "def get_slice(dfin, col, values, frequency=\"mau\"):\n",
    "    dfout = copy_rename(dfin, '%s_audience' % (frequency), \"audience\")\n",
    "    dfout = cut(dfout, col, values, savedcols=['Location', 'audience'])\n",
    "    dfout[\"Frequency\"] = \"Daily\" if frequency == \"dau\" else \"Monthly\"\n",
    "    return dfout\n"
   ]
  },
  {
   "cell_type": "code",
   "execution_count": null,
   "metadata": {
    "ExecuteTime": {
     "end_time": "2018-06-20T09:05:03.949476Z",
     "start_time": "2018-06-20T09:05:03.799252Z"
    }
   },
   "outputs": [],
   "source": [
    "dfgender = {}\n",
    "dfcut = df[(df[\"Education\"].isnull()) & (df[\"Device\"].isnull()) & (df[\"AgeBucket\"] == \"all\") & (df[\"Group\"] == \"Expats (Venezuela)\") & (df[\"Gender\"].apply(lambda x : x in [\"man\",\"woman\"])) & (df[\"LocationType\"] == \"home_recent\")].copy()\n",
    "dfgender[\"mau\"] = get_slice(dfcut, \"Gender\", [\"man\",\"woman\"], frequency=\"mau\")\n",
    "dfgender[\"dau\"] = get_slice(dfcut, \"Gender\", [\"man\",\"woman\"], frequency=\"dau\")"
   ]
  },
  {
   "cell_type": "code",
   "execution_count": null,
   "metadata": {
    "ExecuteTime": {
     "end_time": "2018-06-20T09:05:05.037074Z",
     "start_time": "2018-06-20T09:05:04.917093Z"
    },
    "code_folding": []
   },
   "outputs": [],
   "source": [
    "dfage = {}\n",
    "dfcut = df[(df[\"Education\"].isnull()) & (df[\"Device\"].isnull()) &  (df[\"AgeBucket\"].apply(lambda x : x in [\"adolecent\",\"young_adult\",\"adult\",\"middle_age\", \"elder\"])) &\n",
    "    (df[\"Group\"] == \"Expats (Venezuela)\") & (df[\"Gender\"] == \"both\") & (df[\"LocationType\"] == \"home_recent\") ].copy()\n",
    "dfage[\"mau\"] = get_slice(dfcut, \"AgeBucket\", [\"adolecent\",\"young_adult\",\"adult\",\"middle_age\", \"elder\"], frequency=\"mau\") # Adult is missing...need to check why.\n",
    "dfage[\"dau\"] = get_slice(dfcut, \"AgeBucket\", [\"adolecent\",\"young_adult\",\"adult\",\"middle_age\", \"elder\"], frequency=\"dau\")"
   ]
  },
  {
   "cell_type": "code",
   "execution_count": null,
   "metadata": {
    "ExecuteTime": {
     "end_time": "2018-06-20T09:05:05.954118Z",
     "start_time": "2018-06-20T09:05:05.867312Z"
    }
   },
   "outputs": [],
   "source": [
    "dfloctype = {}\n",
    "dfcut = df[(df[\"Education\"].isnull()) & (df[\"Device\"].isnull()) & (df[\"AgeBucket\"] == \"all\") & (df[\"Group\"] == \"Expats (Venezuela)\") & (df[\"Gender\"] == \"both\") & (df[\"LocationType\"].apply(lambda x : x in [\"home\",\"recent\"]))]\n",
    "dfloctype[\"mau\"] = get_slice(dfcut, \"LocationType\", [\"home\",\"recent\"], frequency=\"mau\")\n",
    "dfloctype[\"dau\"] = get_slice(dfcut, \"LocationType\", [\"home\",\"recent\"], frequency=\"dau\")"
   ]
  },
  {
   "cell_type": "code",
   "execution_count": null,
   "metadata": {
    "ExecuteTime": {
     "end_time": "2018-06-20T09:05:06.831488Z",
     "start_time": "2018-06-20T09:05:06.751522Z"
    }
   },
   "outputs": [],
   "source": [
    "dfdevice = {}\n",
    "dfcut = df[(df[\"Education\"].isnull()) & (~df[\"Device\"].isnull()) & (df[\"AgeBucket\"] == \"all\") &  (df[\"Group\"] == \"Expats (Venezuela)\") & (df[\"Gender\"] == \"both\") & (df[\"LocationType\"] == \"home_recent\") ]\n",
    "dfdevice[\"mau\"] = get_slice(dfcut, \"Device\", [\"iOS\",\"Android\",\"Other\"], frequency=\"mau\")\n",
    "dfdevice[\"dau\"] = get_slice(dfcut, \"Device\", [\"iOS\",\"Android\",\"Other\"], frequency=\"dau\")"
   ]
  },
  {
   "cell_type": "code",
   "execution_count": null,
   "metadata": {
    "ExecuteTime": {
     "end_time": "2018-06-20T09:05:07.677067Z",
     "start_time": "2018-06-20T09:05:07.609258Z"
    }
   },
   "outputs": [],
   "source": [
    "dfschool = {}\n",
    "dfcut = df[(~df[\"Education\"].isnull()) & (df[\"Device\"].isnull()) & (df[\"AgeBucket\"] == \"all\") &  (df[\"Group\"] == \"Expats (Venezuela)\") & (df[\"Gender\"] == \"both\") & (df[\"LocationType\"] == \"home_recent\") ]\n",
    "dfschool[\"mau\"] = get_slice(dfcut, \"Education\", [\"graduated\", \"high_school\"], frequency=\"mau\")\n",
    "dfschool[\"dau\"] = get_slice(dfcut, \"Education\", [\"graduated\", \"high_school\"], frequency=\"dau\")"
   ]
  },
  {
   "cell_type": "code",
   "execution_count": null,
   "metadata": {
    "ExecuteTime": {
     "end_time": "2018-06-20T09:05:08.540352Z",
     "start_time": "2018-06-20T09:05:08.516141Z"
    }
   },
   "outputs": [],
   "source": [
    "for dfopt in [dfgender, dfage, dfloctype, dfdevice, dfschool]:\n",
    "    dfopt[\"dau\"] = dfopt[\"dau\"].drop_duplicates()\n",
    "    dfopt[\"mau\"] = dfopt[\"mau\"].drop_duplicates()"
   ]
  },
  {
   "cell_type": "code",
   "execution_count": null,
   "metadata": {
    "ExecuteTime": {
     "end_time": "2018-06-20T09:05:09.813044Z",
     "start_time": "2018-06-20T09:05:09.600499Z"
    },
    "code_folding": [
     5,
     9,
     40,
     42
    ]
   },
   "outputs": [],
   "source": [
    "merged = {}\n",
    "\n",
    "merged[\"mau\"] = pd.merge(dfgender[\"mau\"], dfloctype[\"mau\"]).merge(dfage[\"mau\"])\n",
    "merged[\"dau\"] = pd.merge(dfgender[\"dau\"], dfloctype[\"dau\"]).merge(dfage[\"dau\"])\n",
    "\n",
    "if not dfdevice[\"mau\"].empty:\n",
    "    merged[\"mau\"] = merged[\"mau\"].merge(dfdevice[\"mau\"])\n",
    "    merged[\"dau\"] = merged[\"dau\"].merge(dfdevice[\"dau\"])\n",
    "    \n",
    "if not dfschool[\"mau\"].empty:\n",
    "    merged[\"mau\"] = merged[\"mau\"].merge(dfschool[\"mau\"])\n",
    "    merged[\"dau\"] = merged[\"dau\"].merge(dfschool[\"dau\"])\n",
    "\n",
    "concated = pd.concat([merged[\"mau\"], merged[\"dau\"]])\n",
    "\n",
    "venezuelans = df[(df[\"Education\"].isnull()) & (df[\"Device\"].isnull()) & (df[\"AgeBucket\"] == \"all\") & (df[\"Group\"] == \"Expats (Venezuela)\") & (df[\"Gender\"] == \"both\") & (df[\"LocationType\"] == \"home_recent\")]\n",
    "allmigrants = df[(df[\"Education\"].isnull()) & (df[\"Device\"].isnull()) & (df[\"AgeBucket\"] == \"all\") & (df[\"Group\"] == \"Ex-pats (All)\") & (df[\"Gender\"] == \"both\") & (df[\"LocationType\"] == \"home_recent\")]\n",
    "allpopulation = df[(df[\"Education\"].isnull()) & (df[\"Device\"].isnull()) & (df[\"AgeBucket\"] == \"all\") & (df[\"Group\"].isnull()) & (df[\"Gender\"] == \"both\") & (df[\"LocationType\"] == \"home_recent\")]\n",
    "\n",
    "dffinal = pd.merge(venezuelans[[\"dau_audience\",\"mau_audience\",\"Location\",\"LocationHierarchy\"]], concated)\n",
    "dffinal[\"venezuelans\"] = dffinal[\"mau_audience\"].where( dffinal[\"Frequency\"]==\"Monthly\", dffinal[\"dau_audience\"]) \n",
    "del dffinal[\"mau_audience\"]\n",
    "del dffinal[\"dau_audience\"]\n",
    "\n",
    "dffinal = pd.merge(allmigrants[[\"dau_audience\",\"mau_audience\",\"Location\",\"LocationHierarchy\"]], dffinal)\n",
    "dffinal[\"allmigrants\"] = dffinal[\"mau_audience\"].where( dffinal[\"Frequency\"]==\"Monthly\", dffinal[\"dau_audience\"]) \n",
    "del dffinal[\"mau_audience\"]\n",
    "del dffinal[\"dau_audience\"]\n",
    "\n",
    "dffinal = pd.merge(allpopulation[[\"dau_audience\",\"mau_audience\",\"Location\",\"LocationHierarchy\"]], dffinal)\n",
    "dffinal[\"allpopulation\"] = dffinal[\"mau_audience\"].where( dffinal[\"Frequency\"]==\"Monthly\", dffinal[\"dau_audience\"]) \n",
    "del dffinal[\"mau_audience\"]\n",
    "del dffinal[\"dau_audience\"]\n",
    "\n",
    "dffinal[\"ven/migrants\"] = dffinal[\"venezuelans\"] / dffinal[\"allmigrants\"]\n",
    "dffinal[\"ven/pop\"] = dffinal[\"venezuelans\"] / dffinal[\"allpopulation\"]\n",
    "\n",
    "dffinal[\"100ven/migrants\"] = 100. * dffinal[\"ven/migrants\"]\n",
    "dffinal[\"100ven/pop\"] = 100. * dffinal[\"ven/pop\"]\n",
    "\n",
    "for trans_col in [\"ven/migrants\", \"ven/pop\"]:\n",
    "    dffinal[trans_col] = dffinal[trans_col].apply(lambda x: \"%.4f\" % x)\n",
    "for trans_col in [\"100ven/migrants\", \"100ven/pop\"]:\n",
    "    dffinal[trans_col] = dffinal[trans_col].apply(lambda x: \"%.2f\" % x)\n",
    "\n",
    "dffinal[\"not_enough_data\"] = False\n",
    "dffinal.loc[dffinal[\"venezuelans\"] <= 1000, \"not_enough_data\"] = True \n",
    "    \n",
    "dffinal.to_csv(\"merged_18_06.csv\", index=False)"
   ]
  },
  {
   "cell_type": "code",
   "execution_count": null,
   "metadata": {},
   "outputs": [],
   "source": []
  }
 ],
 "metadata": {
  "kernelspec": {
   "display_name": "Python 3",
   "language": "python",
   "name": "python3"
  },
  "language_info": {
   "codemirror_mode": {
    "name": "ipython",
    "version": 3
   },
   "file_extension": ".py",
   "mimetype": "text/x-python",
   "name": "python",
   "nbconvert_exporter": "python",
   "pygments_lexer": "ipython3",
   "version": "3.6.5"
  },
  "varInspector": {
   "cols": {
    "lenName": 16,
    "lenType": 16,
    "lenVar": 40
   },
   "kernels_config": {
    "python": {
     "delete_cmd_postfix": "",
     "delete_cmd_prefix": "del ",
     "library": "var_list.py",
     "varRefreshCmd": "print(var_dic_list())"
    },
    "r": {
     "delete_cmd_postfix": ") ",
     "delete_cmd_prefix": "rm(",
     "library": "var_list.r",
     "varRefreshCmd": "cat(var_dic_list()) "
    }
   },
   "types_to_exclude": [
    "module",
    "function",
    "builtin_function_or_method",
    "instance",
    "_Feature"
   ],
   "window_display": false
  }
 },
 "nbformat": 4,
 "nbformat_minor": 2
}
