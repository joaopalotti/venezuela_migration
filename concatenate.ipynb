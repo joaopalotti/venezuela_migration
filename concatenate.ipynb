{
 "cells": [
  {
   "cell_type": "code",
   "execution_count": 103,
   "metadata": {
    "ExecuteTime": {
     "end_time": "2019-06-20T07:56:45.145714Z",
     "start_time": "2019-06-20T07:56:45.139614Z"
    }
   },
   "outputs": [],
   "source": [
    "import json\n",
    "import pandas as pd\n",
    "import ast\n",
    "import datetime\n",
    "from glob import glob\n",
    "import unidecode"
   ]
  },
  {
   "cell_type": "code",
   "execution_count": 104,
   "metadata": {
    "ExecuteTime": {
     "end_time": "2019-06-20T07:56:57.739355Z",
     "start_time": "2019-06-20T07:56:46.003099Z"
    }
   },
   "outputs": [],
   "source": [
    "files = sorted(glob(\"results/merged_*.csv\"))\n",
    "\n",
    "def get_date(s):\n",
    "    return s.split(\"merged_\")[1].split(\".csv\")[0]\n",
    "\n",
    "infile1 = files[0]\n",
    "infile2 = files[1]\n",
    "col_to_export = [\"venezuelans\",\"allpopulation\"] #,'audience_adolecent', 'audience_young_adult','audience_adult', 'audience_middle_age','audience_elder',\n",
    "                                                #'audience_locals_adolecent', 'audience_locals_young_adult','audience_locals_adult', 'audience_locals_middle_age','audience_locals_elder']\n",
    "\n",
    "df1 = pd.read_csv(infile1)\n",
    "df2 = pd.read_csv(infile2)\n",
    "merged = pd.merge(df1[[\"Location\",\"LocationHierarchy\",\"Frequency\", *col_to_export]], df2[[\"Location\",\"LocationHierarchy\",\"Frequency\", *col_to_export]], \n",
    "                  on=[\"Location\",\"LocationHierarchy\",\"Frequency\"], suffixes=(get_date(files[0]), (get_date(files[1]))), how=\"outer\")\n",
    "\n",
    "for i in range(2, len(files)):\n",
    "    tmp = pd.read_csv(files[i])\n",
    "    merged = pd.merge(merged, \n",
    "          tmp[[\"Location\",\"LocationHierarchy\",\"Frequency\", *col_to_export]], \n",
    "          on=[\"Location\",\"LocationHierarchy\",\"Frequency\"], suffixes=(\"\", get_date(files[i])), how=\"outer\")\n",
    "    \n",
    "for col in col_to_export:\n",
    "    merged[col + get_date(files[2])] = merged[col]\n",
    "    del merged[col]\n",
    "    \n",
    "    \n",
    "merged = merged[merged[\"Frequency\"] == \"Monthly\"]\n",
    "   "
   ]
  },
  {
   "cell_type": "code",
   "execution_count": 105,
   "metadata": {
    "ExecuteTime": {
     "end_time": "2019-06-20T07:57:00.499296Z",
     "start_time": "2019-06-20T07:56:58.954370Z"
    }
   },
   "outputs": [],
   "source": [
    "vencols = [c for c in merged.keys() if c.startswith(\"venezuelans\")]\n",
    "merged[\"venezuelans_hist_min\"] = merged[vencols].min(axis=1)\n",
    "merged[\"venezuelans_hist_max\"] = merged[vencols].max(axis=1)\n",
    "merged.to_csv(\"till_2019_06_19.csv\")"
   ]
  },
  {
   "cell_type": "code",
   "execution_count": 106,
   "metadata": {
    "ExecuteTime": {
     "end_time": "2019-06-20T07:57:02.589593Z",
     "start_time": "2019-06-20T07:57:01.988279Z"
    }
   },
   "outputs": [],
   "source": [
    "# Creates final merged file\n",
    "dfacc = \"till_2019_06_19.csv\"\n",
    "latest = \"./results/merged_19_06_18.csv\"\n",
    "\n",
    "pendular = \"./results/pendular_19_06_18.csv\"\n",
    "married = \"./results/married_19_06_18.csv\"\n",
    "immigrant = \"./results/immigrants_19_06_18.csv\"\n",
    "\n",
    "dfacc = pd.read_csv(dfacc)\n",
    "latest = pd.read_csv(latest)\n",
    "\n",
    "pendular = pd.read_csv(pendular)\n",
    "del pendular[\"audience_Expats (Venezuela)\"]\n",
    "married = pd.read_csv(married)\n",
    "immigrant = pd.read_csv(immigrant)\n",
    "\n",
    "merged_all = pd.merge(dfacc, latest, how=\"outer\", on=[\"Location\",\"LocationHierarchy\",\"Frequency\"], suffixes=(get_date(files[0]), (get_date(files[1]))))\n",
    "merged_all = pd.merge(merged_all, pendular, how=\"outer\", on=[\"Location\",\"LocationHierarchy\",\"Frequency\"])\n",
    "merged_all = pd.merge(merged_all, married, how=\"outer\", on=[\"Location\",\"LocationHierarchy\",\"Frequency\"])\n",
    "merged_all = pd.merge(merged_all, immigrant, how=\"outer\", on=[\"Location\", \"Frequency\"])\n",
    "\n",
    "del merged_all[\"Unnamed: 0\"]\n",
    "\n",
    "\n",
    "merged_all = merged_all[merged_all[\"Frequency\"] == \"Monthly\"]\n",
    "\n",
    "#merged_all[\"Location\"] = merged_all[\"Location\"].apply(lambda x : unidecode.unidecode(x))\n",
    "merged_all.fillna(0.0).to_csv(\"all_2019_06_19+.csv\", index=False)\n",
    "\n"
   ]
  },
  {
   "cell_type": "code",
   "execution_count": 141,
   "metadata": {
    "ExecuteTime": {
     "end_time": "2019-06-20T11:54:22.098940Z",
     "start_time": "2019-06-20T11:54:21.387578Z"
    }
   },
   "outputs": [
    {
     "data": {
      "text/plain": [
       "Location               ColombiaBrazilPeruPanamaChileEcuadorArgentinaC...\n",
       "venezuelans19_03_14                                           3.2548e+06\n",
       "venezuelans19_03_20                                           2.3653e+06\n",
       "venezuelans19_03_17                                           2.4777e+06\n",
       "20/01                                                            13.2175\n",
       "dtype: object"
      ]
     },
     "execution_count": 141,
     "metadata": {},
     "output_type": "execute_result"
    }
   ],
   "source": [
    "countries = merged_all[(merged_all[\"LocationHierarchy\"] == \"Country\") & (merged_all[\"Frequency\"] == \"Monthly\")].copy()\n",
    "\n",
    "unhcr_countries = ['Brazil', 'Uruguay', 'Paraguay', 'Argentina', 'Chile', 'Bolivia', 'Peru', 'Ecuador', 'Colombia',\n",
    "                  'Panama', 'Costa Rica', 'Dominican Republic', 'Aruba', 'Curacao', 'Trinidad and Tobago', 'Guyana', 'Mexico']\n",
    "\n",
    "countries = countries[countries[\"Location\"].apply(lambda x: x in unhcr_countries)]\n",
    "\n",
    "#countries[[\"allpopulation19_03_01\", \"allpopulation19_03_20\"]].sum()\n",
    "#countries[[\"venezuelans19_03_01\", \"venezuelans19_03_20\"]].sum()\n",
    "countries[\"20/01\"] = countries[\"venezuelans19_03_20\"] /countries[\"venezuelans19_03_01\"]\n",
    "countries[[\"Location\", \"venezuelans19_03_01\", \"venezuelans19_03_20\", \"20/01\"]]\n",
    "\n",
    "valid = countries[countries[\"venezuelans19_03_20\"] > 1000]\n",
    "valid[[\"Location\", \"venezuelans19_03_14\", \"venezuelans19_03_20\", \"venezuelans19_03_17\", \"20/01\"]].sum()\n",
    "\n",
    "#valid[[\"venezuelans19_03_01\", \"venezuelans19_03_20\", \"20/01\"]].corr(\"spearman\")"
   ]
  },
  {
   "cell_type": "code",
   "execution_count": 109,
   "metadata": {
    "ExecuteTime": {
     "end_time": "2019-06-20T08:18:29.006911Z",
     "start_time": "2019-06-20T08:18:28.977283Z"
    }
   },
   "outputs": [
    {
     "data": {
      "text/html": [
       "<div>\n",
       "<style scoped>\n",
       "    .dataframe tbody tr th:only-of-type {\n",
       "        vertical-align: middle;\n",
       "    }\n",
       "\n",
       "    .dataframe tbody tr th {\n",
       "        vertical-align: top;\n",
       "    }\n",
       "\n",
       "    .dataframe thead th {\n",
       "        text-align: right;\n",
       "    }\n",
       "</style>\n",
       "<table border=\"1\" class=\"dataframe\">\n",
       "  <thead>\n",
       "    <tr style=\"text-align: right;\">\n",
       "      <th></th>\n",
       "      <th>venezuelans19_03_01</th>\n",
       "      <th>venezuelans19_03_20</th>\n",
       "      <th>20/01</th>\n",
       "    </tr>\n",
       "  </thead>\n",
       "  <tbody>\n",
       "    <tr>\n",
       "      <th>venezuelans19_03_01</th>\n",
       "      <td>1.000000</td>\n",
       "      <td>0.997684</td>\n",
       "      <td>-0.141861</td>\n",
       "    </tr>\n",
       "    <tr>\n",
       "      <th>venezuelans19_03_20</th>\n",
       "      <td>0.997684</td>\n",
       "      <td>1.000000</td>\n",
       "      <td>-0.121781</td>\n",
       "    </tr>\n",
       "    <tr>\n",
       "      <th>20/01</th>\n",
       "      <td>-0.141861</td>\n",
       "      <td>-0.121781</td>\n",
       "      <td>1.000000</td>\n",
       "    </tr>\n",
       "  </tbody>\n",
       "</table>\n",
       "</div>"
      ],
      "text/plain": [
       "                     venezuelans19_03_01  venezuelans19_03_20     20/01\n",
       "venezuelans19_03_01             1.000000             0.997684 -0.141861\n",
       "venezuelans19_03_20             0.997684             1.000000 -0.121781\n",
       "20/01                          -0.141861            -0.121781  1.000000"
      ]
     },
     "execution_count": 109,
     "metadata": {},
     "output_type": "execute_result"
    }
   ],
   "source": [
    "countries = merged_all[(merged_all[\"Frequency\"] == \"Monthly\")].copy()\n",
    "\n",
    "#countries[[\"allpopulation19_03_01\", \"allpopulation19_03_20\"]].sum()\n",
    "#countries[[\"venezuelans19_03_01\", \"venezuelans19_03_20\"]].sum()\n",
    "countries[\"20/01\"] = countries[\"venezuelans19_03_20\"] /countries[\"venezuelans19_03_01\"]\n",
    "countries[[\"Location\", \"venezuelans19_03_01\", \"venezuelans19_03_20\", \"20/01\"]]\n",
    "\n",
    "valid = countries[countries[\"venezuelans19_03_20\"] > 1000]\n",
    "valid[[\"Location\", \"venezuelans19_03_01\", \"venezuelans19_03_20\", \"20/01\"]][\"20/01\"].mean()\n",
    "\n",
    "valid[[\"venezuelans19_03_01\", \"venezuelans19_03_20\", \"20/01\"]].corr()"
   ]
  },
  {
   "cell_type": "code",
   "execution_count": null,
   "metadata": {},
   "outputs": [],
   "source": []
  }
 ],
 "metadata": {
  "hide_input": false,
  "kernelspec": {
   "display_name": "Python 3",
   "language": "python",
   "name": "python3"
  },
  "language_info": {
   "codemirror_mode": {
    "name": "ipython",
    "version": 3
   },
   "file_extension": ".py",
   "mimetype": "text/x-python",
   "name": "python",
   "nbconvert_exporter": "python",
   "pygments_lexer": "ipython3",
   "version": "3.7.3"
  },
  "varInspector": {
   "cols": {
    "lenName": 16,
    "lenType": 16,
    "lenVar": 40
   },
   "kernels_config": {
    "python": {
     "delete_cmd_postfix": "",
     "delete_cmd_prefix": "del ",
     "library": "var_list.py",
     "varRefreshCmd": "print(var_dic_list())"
    },
    "r": {
     "delete_cmd_postfix": ") ",
     "delete_cmd_prefix": "rm(",
     "library": "var_list.r",
     "varRefreshCmd": "cat(var_dic_list()) "
    }
   },
   "types_to_exclude": [
    "module",
    "function",
    "builtin_function_or_method",
    "instance",
    "_Feature"
   ],
   "window_display": false
  }
 },
 "nbformat": 4,
 "nbformat_minor": 2
}
