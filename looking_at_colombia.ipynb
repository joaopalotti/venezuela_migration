{
 "cells": [
  {
   "cell_type": "code",
   "execution_count": 1,
   "metadata": {
    "ExecuteTime": {
     "end_time": "2018-07-02T07:50:13.237325Z",
     "start_time": "2018-07-02T07:50:12.412550Z"
    }
   },
   "outputs": [],
   "source": [
    "import json\n",
    "import pandas as pd\n",
    "import ast\n",
    "import datetime"
   ]
  },
  {
   "cell_type": "code",
   "execution_count": 2,
   "metadata": {
    "ExecuteTime": {
     "end_time": "2018-07-02T07:50:14.442803Z",
     "start_time": "2018-07-02T07:50:14.413555Z"
    },
    "code_folding": [
     0,
     3,
     10,
     27,
     30,
     36
    ]
   },
   "outputs": [],
   "source": [
    "def convert_unixtime(utime):\n",
    "    return (datetime.datetime.fromtimestamp(int(utime)).strftime('%d-%m'))\n",
    "\n",
    "def convert_country_code(code):\n",
    "    mapping = {\"CO\":\"Colombia\", \"BR\": \"Brazil\", \"VE\": \"Venezuela\", \"PE\": \"Peru\", \"UY\": \"Uruguay\", \n",
    "               \"PY\": \"Paraguay\", \"PA\": \"Panama\", \"CL\": \"Chile\", \"EC\":\"Ecuador\", \"AR\": \"Argentina\",\n",
    "               \"CR\": \"Costa Rica\", \"GY\": \"Guyana\", \"MX\": \"Mexico\", \"US\": \"United States\",  \n",
    "              }\n",
    "    return mapping[code]\n",
    "\n",
    "def cut(df, col, values, savedcols= ['Location', 'dau_audience', 'mau_audience']):\n",
    "    df_slice = {}\n",
    "    \n",
    "    for i, v in enumerate(values):\n",
    "        df_slice[i] = df[df[col] == v][savedcols]\n",
    "    \n",
    "    merge = pd.merge(df_slice[0], df_slice[1], on=[\"Location\"], suffixes=(\"_%s\" % (values[0]), \"_%s\" % (values[1])))\n",
    "    for i in range(2, len(values)):\n",
    "        #print(\"Adding suffix for:\" + values[i])\n",
    "        merge = pd.merge(merge, df_slice[i], on=[\"Location\"], suffixes=(\"\", \"_%s\" % (values[i])))\n",
    "        \n",
    "    if len(values) > 2:\n",
    "        # Fix information for the second group.\n",
    "        merge[\"audience_%s\" % (values[2])] = merge[\"audience\"]\n",
    "        del merge[\"audience\"]\n",
    "    return merge   \n",
    "\n",
    "def copy_rename(df, oldname, newname):\n",
    "    return df.rename(columns={oldname: newname}).copy() \n",
    "\n",
    "def get_slice(dfin, col, values, frequency=\"mau\"):\n",
    "    dfout = copy_rename(dfin, '%s_audience' % (frequency), \"audience\")\n",
    "    dfout = cut(dfout, col, values, savedcols=['Location', 'audience'])\n",
    "    dfout[\"Frequency\"] = \"Daily\" if frequency == \"dau\" else \"Monthly\"\n",
    "    return dfout\n",
    "\n",
    "def calculate_percentages(df, cols, prefix):\n",
    "    totals = df.sum(axis=1)\n",
    "    for col in cols:\n",
    "        df[prefix + \"audience_\" + col] = df[\"audience_\" + col] * 100. / totals\n",
    "        df[prefix + \"audience_\" + col] = df[\"audience_\" + col] * 100. / totals"
   ]
  },
  {
   "cell_type": "code",
   "execution_count": 88,
   "metadata": {
    "ExecuteTime": {
     "end_time": "2018-07-02T08:09:56.754287Z",
     "start_time": "2018-07-02T08:09:51.068480Z"
    }
   },
   "outputs": [
    {
     "name": "stderr",
     "output_type": "stream",
     "text": [
      "/home/palotti/p3/lib/python3.6/site-packages/IPython/core/interactiveshell.py:2785: DtypeWarning: Columns (1) have mixed types. Specify dtype option on import or set low_memory=False.\n",
      "  interactivity=interactivity, compiler=compiler, result=result)\n"
     ]
    },
    {
     "name": "stdout",
     "output_type": "stream",
     "text": [
      "Collection made in 29-06\n"
     ]
    }
   ],
   "source": [
    "#infile = \"collections/colombia/dataframe_collected_finished_1526497778.csv.gz\" # From 16th May\n",
    "#infile = \"collections/colombia/dataframe_collected_finished_1526595686.csv.gz\" # From 18th May\n",
    "#infile = \"collections/colombia/dataframe_collected_finished_1526754549.csv.gz\" # From 19th May\n",
    "#infile = \"collections/colombia/dataframe_collected_finished_1527055300.csv.gz\" # From 23th May   \n",
    "#infile = \"collections/colombia/dataframe_collected_finished_1527086071.csv.gz\" # From 23th May # Needs to fix duplicate for Santander, Colombia in all datasets before this one\n",
    "#infile = \"collections/colombia/dataframe_collected_finished_1527152527.csv.gz\" # From 24th May\n",
    "#infile = \"collections/colombia/dataframe_collected_finished_1527162372.csv.gz\" # From 24th May\n",
    "#infile = \"collections/colombia/dataframe_collected_finished_1527262566.csv.gz\" # From 25th May\n",
    "#infile = \"collections/colombia/dataframe_collected_finished_1527336923.csv.gz\" # From 26th May\n",
    "#infile = \"collections/colombia/dataframe_collected_finished_1527421314.csv.gz\" # From 27th May\n",
    "#infile = \"collections/colombia/dataframe_collected_finished_1527620434.csv.gz\" # From 28th May\n",
    "#infile = \"collections/colombia/dataframe_collected_finished_1527655611.csv.gz\" # From 29th May\n",
    "#infile = \"collections/colombia/dataframe_collected_finished_1527670079.csv.gz\" # From 30th May\n",
    "#infile = \"collections/colombia/dataframe_collected_finished_1527714408.csv.gz\" # From 31th May\n",
    "#infile = \"collections/colombia/dataframe_collected_finished_1527854965.csv.gz\" # From 1st June\n",
    "#infile = \"collections/colombia/dataframe_collected_finished_1528052984.csv.gz\" # From 3rd June\n",
    "#infile = \"collections/colombia/dataframe_collected_finished_1528190439.csv.gz\" # From 5th June\n",
    "#infile = \"collections/colombia/dataframe_collected_finished_1528297332.csv.gz\" # From 6th June\n",
    "#infile = \"collections/colombia/dataframe_collected_finished_1528410926.csv.gz\" # From 8th June\n",
    "#infile = \"collections/colombia/dataframe_collected_finished_1528531672.csv.gz\" # From 9th June\n",
    "#infile = \"collections/colombia/dataframe_collected_finished_1528635898.csv.gz\" # From 10th June\n",
    "#infile = \"collections/colombia/dataframe_collected_finished_1528793179.csv.gz\" # From 12th June\n",
    "#infile = \"collections/colombia/dataframe_collected_finished_1528925661.csv.gz\" # From 14th June\n",
    "#infile = \"collections/colombia/dataframe_collected_finished_1529055941.csv.gz\" # From 15th June\n",
    "#infile = \"collections/colombia/dataframe_collected_finished_1529181638.csv.gz\" # From 16th June\n",
    "#infile = \"collections/colombia/dataframe_collected_finished_1529319680.csv.gz\" # From 18th June\n",
    "##### Missing:\n",
    "#infile = \"collections/colombia/dataframe_collected_finished_1529483108.csv.gz\" # From 20th June\n",
    "#infile = \"collections/colombia/dataframe_collected_finished_1529789939.csv.gz\" # From 24th June\n",
    "#infile = \"collections/colombia/dataframe_collected_finished_1529923559.csv.gz\" # From 25th June\n",
    "#infile = \"collections/colombia/dataframe_collected_finished_1530043687.csv.gz\" # From 26th June\n",
    "#infile = \"collections/colombia/dataframe_collected_finished_1530166519.csv.gz\" # From 28th June\n",
    "infile = \"collections/colombia/dataframe_collected_finished_1530302641.csv.gz\" # From 29th June\n",
    "\n",
    "df = pd.read_csv(infile)\n",
    "df[\"CollectionDay\"] = df[\"timestamp\"].apply(lambda x: convert_unixtime(x))\n",
    "print(\"Collection made in %s\" % (df[\"CollectionDay\"].head()[0]))"
   ]
  },
  {
   "cell_type": "code",
   "execution_count": 89,
   "metadata": {
    "ExecuteTime": {
     "end_time": "2018-07-02T08:11:40.327331Z",
     "start_time": "2018-07-02T08:10:00.197255Z"
    },
    "code_folding": [
     0,
     10,
     22,
     31,
     46,
     75,
     82,
     86,
     89
    ],
    "run_control": {
     "marked": true
    }
   },
   "outputs": [
    {
     "name": "stdout",
     "output_type": "stream",
     "text": [
      "Updating Group information...\n",
      "Adding information regarding devices...\n",
      "Removing redundant cols\n",
      "All Done!\n"
     ]
    }
   ],
   "source": [
    "def extract_relationship(d):\n",
    "    if 1 in d:\n",
    "        return \"single\"\n",
    "    elif 2 in d:\n",
    "        return \"dating\"\n",
    "    elif 3 in d:\n",
    "        return \"married\"\n",
    "    else:\n",
    "        return None\n",
    "\n",
    "def extract_education(d):\n",
    "    if d == [3, 7, 8, 9, 11]:\n",
    "        return \"graduated\"\n",
    "    elif d == [1, 12, 13]:\n",
    "        return \"no_degree\"\n",
    "    elif d == [2, 4, 5, 6, 10]:\n",
    "        return \"high_school\"\n",
    "    elif d == [1, 2, 3, 4, 5, 6, 7, 8, 9, 10, 11, 12, 13]:\n",
    "        return \"all\"\n",
    "    else:\n",
    "        return None\n",
    "\n",
    "def extract_group(d):\n",
    "    id = d[0][\"id\"]\n",
    "    if id == 6026404871583:\n",
    "        return \"Expats (Venezuela)\"\n",
    "    elif id == 6015559470583:\n",
    "        return \"Ex-pats (All)\"\n",
    "    else:\n",
    "        return \"All\"\n",
    "\n",
    "def agebuckets(minage, maxage):\n",
    "    if minage == 13 and (maxage is None or np.isnan(maxage)):\n",
    "        return \"all\"\n",
    "    elif minage == 13 and maxage == 18:\n",
    "        return \"adolecent\"\n",
    "    elif minage == 19 and maxage == 25:\n",
    "        return \"young_adult\"\n",
    "    elif minage == 26 and maxage == 40:\n",
    "        return \"adult\"\n",
    "    elif minage == 41 and maxage == 65:\n",
    "        return \"middle_age\"\n",
    "    elif minage == 65 and (maxage is None or np.isnan(maxage)):\n",
    "        return \"elder\"\n",
    "    return \"undefined\"\n",
    "    \n",
    "def expand(row):\n",
    "    place = None\n",
    "    loc_dimension = None\n",
    "    if \"regions\" in row[\"geo_locations\"]:\n",
    "        place = \"%s, %s\" % (row[\"geo_locations\"][\"regions\"][0][\"name\"], convert_country_code(row[\"geo_locations\"][\"regions\"][0][\"country_code\"]))\n",
    "        loc_dimension = \"State\"\n",
    "    elif \"countries\" in row[\"geo_locations\"]:\n",
    "        place = convert_country_code(row[\"geo_locations\"][\"countries\"][0])\n",
    "        loc_dimension = \"Country\"\n",
    "    elif \"cities\" in row[\"geo_locations\"]:\n",
    "        place = \"%s, %s, %s\" % (row[\"geo_locations\"][\"cities\"][0][\"name\"], row[\"geo_locations\"][\"cities\"][0][\"region\"], convert_country_code(row[\"geo_locations\"][\"cities\"][0][\"country\"]))\n",
    "        loc_dimension = \"City\"\n",
    "    \n",
    "    loctype = \"_\".join(row[\"geo_locations\"][\"location_types\"])\n",
    "\n",
    "    relationship, education, group = None, None, None\n",
    "    for dimension in row[\"flexible_spec\"]:\n",
    "        if \"relationship_statuses\" in dimension:\n",
    "            relationship = extract_relationship(dimension[\"relationship_statuses\"])\n",
    "        elif \"education_statuses\" in dimension:\n",
    "            education = extract_education(dimension[\"education_statuses\"])\n",
    "        elif \"behaviors\" in dimension:\n",
    "            group = extract_group(dimension[\"behaviors\"])\n",
    "    \n",
    "    gender = row[\"genders\"][0]\n",
    "    gender = \"both\" if gender == 0 else \"man\" if gender == 1 else \"woman\"\n",
    "    \n",
    "    return row[\"age_min\"], row[\"age_max\"], place, loc_dimension, loctype, gender, relationship, education, group\n",
    "\n",
    "def get_item(x):\n",
    "    if not x:\n",
    "        return None\n",
    "    return x[\"name\"]\n",
    "\n",
    "df[[\"MinAge\",\"MaxAge\",\"Location\",\"LocationHierarchy\",\"LocationType\",\"Gender\",\"Relationship\",\"Education\",\"Group\"]] = df[\"targeting\"].apply(lambda x : expand(ast.literal_eval(x))).apply(pd.Series)\n",
    "\n",
    "if \"citizenship\" in df:\n",
    "    df[\"Group\"] = df[\"citizenship\"].fillna(\"[]\").apply(lambda x : get_item(ast.literal_eval(x)))\n",
    "    print(\"Updating Group information...\")\n",
    "    \n",
    "if \"access_device\" in df:\n",
    "    df[\"Device\"] = df[\"access_device\"].fillna(\"[]\").apply(lambda x : get_item(ast.literal_eval(x)))\n",
    "    print(\"Adding information regarding devices...\")\n",
    "else:\n",
    "    df[\"Device\"] = None\n",
    "    \n",
    "df[\"AgeBucket\"] = df[[\"MinAge\",\"MaxAge\"]].apply(lambda x: agebuckets(x[\"MinAge\"], x[\"MaxAge\"]), axis=1)\n",
    "\n",
    "print(\"Removing redundant cols\")\n",
    "for col in [\"Unnamed: 0\", \"all_fields\", \"targeting\",'behavior', 'citizenship', \"mock_response\", \"access_device\", \n",
    "            \"ages_ranges\", \"household_composition\", 'interests', 'family_statuses', 'genders', 'geo_locations', 'languages',\n",
    "            'name', 'relationship_statuses', 'response', 'scholarities', 'timestamp', 'publisher_platforms',]:\n",
    "    if col in df.keys():\n",
    "        del df[col]\n",
    "\n",
    "# Gave up using travel_in   \n",
    "df = df[df[\"LocationType\"] != \"travel_in\"]\n",
    "\n",
    "print(\"All Done!\")\n",
    "# Brief description: \n",
    "# -----------------\n",
    "# Gender: 0 Both, 1 Man, 2 Woman\n",
    "# Age: 13-Null, 13-18, 19-25, 26-40, 41-65, 65+\n",
    "# LocationType: home_recent, home, recent\n"
   ]
  },
  {
   "cell_type": "code",
   "execution_count": 90,
   "metadata": {
    "ExecuteTime": {
     "end_time": "2018-07-02T08:11:42.715303Z",
     "start_time": "2018-07-02T08:11:42.543072Z"
    }
   },
   "outputs": [],
   "source": [
    "dfgender = {}\n",
    "dfcut = df[(df[\"Gender\"].apply(lambda x : x in [\"man\",\"woman\"])) & (df[\"Education\"].isnull()) & (df[\"Device\"].isnull()) & (df[\"AgeBucket\"] == \"all\") & (df[\"Group\"] == \"Expats (Venezuela)\") & (df[\"LocationType\"] == \"home_recent\")].copy()\n",
    "dfgender[\"mau\"] = get_slice(dfcut, \"Gender\", [\"man\",\"woman\"], frequency=\"mau\")\n",
    "dfgender[\"dau\"] = get_slice(dfcut, \"Gender\", [\"man\",\"woman\"], frequency=\"dau\")\n",
    "calculate_percentages(dfgender[\"mau\"], [\"man\",\"woman\"], \"%ven_\")\n",
    "calculate_percentages(dfgender[\"dau\"], [\"man\",\"woman\"], \"%ven_\")"
   ]
  },
  {
   "cell_type": "code",
   "execution_count": 105,
   "metadata": {
    "ExecuteTime": {
     "end_time": "2018-07-02T08:20:31.633147Z",
     "start_time": "2018-07-02T08:20:31.518805Z"
    }
   },
   "outputs": [],
   "source": [
    "df_gender_locals = {}\n",
    "dfcut = df[(df[\"Gender\"].apply(lambda x : x in [\"man\",\"woman\"])) & (df[\"Education\"].isnull()) & (df[\"Device\"].isnull()) \n",
    "           & (df[\"AgeBucket\"] == \"all\") & (df[\"Group\"].isnull()) & (df[\"LocationType\"] == \"home_recent\") ].copy()\n",
    "\n",
    "df_gender_locals[\"mau\"] = get_slice(dfcut, \"Gender\", [\"man\",\"woman\"], frequency=\"mau\") \n",
    "df_gender_locals[\"dau\"] = get_slice(dfcut, \"Gender\", [\"man\",\"woman\"], frequency=\"dau\")\n",
    "\n",
    "calculate_percentages(df_gender_locals[\"mau\"], [\"man\",\"woman\"], \"%locals_\")\n",
    "calculate_percentages(df_gender_locals[\"dau\"], [\"man\",\"woman\"], \"%locals_\")\n",
    "\n",
    "for col in [\"man\",\"woman\"]:\n",
    "    del df_gender_locals[\"mau\"][\"audience_\" + col]\n",
    "    del df_gender_locals[\"dau\"][\"audience_\" + col]\n"
   ]
  },
  {
   "cell_type": "code",
   "execution_count": 91,
   "metadata": {
    "ExecuteTime": {
     "end_time": "2018-07-02T08:11:45.390007Z",
     "start_time": "2018-07-02T08:11:45.107330Z"
    },
    "code_folding": []
   },
   "outputs": [],
   "source": [
    "dfage = {}\n",
    "dfcut = df[(df[\"Education\"].isnull()) & (df[\"Device\"].isnull()) &  (df[\"AgeBucket\"].apply(lambda x : x in [\"adolecent\",\"young_adult\",\"adult\",\"middle_age\", \"elder\"])) &\n",
    "    (df[\"Group\"] == \"Expats (Venezuela)\") & (df[\"Gender\"] == \"both\") & (df[\"LocationType\"] == \"home_recent\") ].copy()\n",
    "dfage[\"mau\"] = get_slice(dfcut, \"AgeBucket\", [\"adolecent\",\"young_adult\",\"adult\",\"middle_age\", \"elder\"], frequency=\"mau\") \n",
    "dfage[\"dau\"] = get_slice(dfcut, \"AgeBucket\", [\"adolecent\",\"young_adult\",\"adult\",\"middle_age\", \"elder\"], frequency=\"dau\")\n",
    "\n",
    "calculate_percentages(dfage[\"mau\"], [\"adolecent\",\"young_adult\",\"adult\",\"middle_age\", \"elder\"], \"%ven_\")\n",
    "calculate_percentages(dfage[\"dau\"], [\"adolecent\",\"young_adult\",\"adult\",\"middle_age\", \"elder\"], \"%ven_\")\n"
   ]
  },
  {
   "cell_type": "code",
   "execution_count": 92,
   "metadata": {
    "ExecuteTime": {
     "end_time": "2018-07-02T08:11:48.112815Z",
     "start_time": "2018-07-02T08:11:47.727656Z"
    }
   },
   "outputs": [],
   "source": [
    "df_age_pyramid = {}\n",
    "dfcut_man = df[(df[\"AgeBucket\"].apply(lambda x : x in [\"adolecent\",\"young_adult\",\"adult\",\"middle_age\", \"elder\"])) & (df[\"Gender\"] == \"man\") &\n",
    "           (df[\"Education\"].isnull()) & (df[\"Device\"].isnull()) &  (df[\"Group\"] == \"Expats (Venezuela)\") & (df[\"LocationType\"] == \"home_recent\") ]\n",
    "df_age_pyramid[\"mau_man\"] = get_slice(dfcut_man, \"AgeBucket\", [\"adolecent\",\"young_adult\",\"adult\",\"middle_age\", \"elder\"], frequency=\"mau\")\n",
    "df_age_pyramid[\"dau_man\"] = get_slice(dfcut_man, \"AgeBucket\", [\"adolecent\",\"young_adult\",\"adult\",\"middle_age\", \"elder\"], frequency=\"dau\")\n",
    "\n",
    "dfcut_woman = df[(df[\"AgeBucket\"].apply(lambda x : x in [\"adolecent\",\"young_adult\",\"adult\",\"middle_age\", \"elder\"])) & (df[\"Gender\"] == \"woman\") &\n",
    "           (df[\"Education\"].isnull()) & (df[\"Device\"].isnull()) &  (df[\"Group\"] == \"Expats (Venezuela)\") & (df[\"LocationType\"] == \"home_recent\") ]\n",
    "df_age_pyramid[\"mau_woman\"] = get_slice(dfcut_woman, \"AgeBucket\", [\"adolecent\",\"young_adult\",\"adult\",\"middle_age\", \"elder\"], frequency=\"mau\")\n",
    "df_age_pyramid[\"dau_woman\"] = get_slice(dfcut_woman, \"AgeBucket\", [\"adolecent\",\"young_adult\",\"adult\",\"middle_age\", \"elder\"], frequency=\"dau\")\n",
    "\n",
    "df_age_pyramid[\"dau\"] = pd.merge(df_age_pyramid[\"dau_man\"],df_age_pyramid[\"dau_woman\"], on=[\"Location\",\"Frequency\"], suffixes=(\"_man\",\"_woman\"))\n",
    "df_age_pyramid[\"mau\"] = pd.merge(df_age_pyramid[\"mau_man\"],df_age_pyramid[\"mau_woman\"], on=[\"Location\",\"Frequency\"], suffixes=(\"_man\",\"_woman\"))\n"
   ]
  },
  {
   "cell_type": "code",
   "execution_count": 93,
   "metadata": {
    "ExecuteTime": {
     "end_time": "2018-07-02T08:11:51.143209Z",
     "start_time": "2018-07-02T08:11:50.806368Z"
    }
   },
   "outputs": [],
   "source": [
    "df_age_locals = {}\n",
    "dfcut = df[(df[\"Education\"].isnull()) & (df[\"Device\"].isnull()) &  (df[\"AgeBucket\"].apply(lambda x : x in [\"adolecent\",\"young_adult\",\"adult\",\"middle_age\", \"elder\"])) &\n",
    "    (df[\"Group\"].isnull()) & (df[\"Gender\"] == \"both\") & (df[\"LocationType\"] == \"home_recent\") ].copy()\n",
    "df_age_locals[\"mau\"] = get_slice(dfcut, \"AgeBucket\", [\"adolecent\",\"young_adult\",\"adult\",\"middle_age\", \"elder\"], frequency=\"mau\") \n",
    "df_age_locals[\"dau\"] = get_slice(dfcut, \"AgeBucket\", [\"adolecent\",\"young_adult\",\"adult\",\"middle_age\", \"elder\"], frequency=\"dau\")\n",
    "\n",
    "calculate_percentages(df_age_locals[\"mau\"], [\"adolecent\",\"young_adult\",\"adult\",\"middle_age\", \"elder\"], \"%locals_\")\n",
    "calculate_percentages(df_age_locals[\"dau\"], [\"adolecent\",\"young_adult\",\"adult\",\"middle_age\", \"elder\"], \"%locals_\")\n",
    "\n",
    "for col in [\"adolecent\",\"young_adult\",\"adult\",\"middle_age\", \"elder\"]:\n",
    "    del df_age_locals[\"mau\"][\"audience_\" + col]\n",
    "    del df_age_locals[\"dau\"][\"audience_\" + col]\n"
   ]
  },
  {
   "cell_type": "code",
   "execution_count": 94,
   "metadata": {
    "ExecuteTime": {
     "end_time": "2018-07-02T08:11:53.729016Z",
     "start_time": "2018-07-02T08:11:53.533795Z"
    }
   },
   "outputs": [],
   "source": [
    "dfloctype = {}\n",
    "dfcut = df[(df[\"LocationType\"].apply(lambda x : x in [\"home\",\"recent\",\"travel_in\",\"home_recent\"])) & (df[\"Education\"].isnull()) & (df[\"Device\"].isnull()) & (df[\"AgeBucket\"] == \"all\") & (df[\"Group\"] == \"Expats (Venezuela)\") & (df[\"Gender\"] == \"both\") ]\n",
    "dfloctype[\"mau\"] = get_slice(dfcut, \"LocationType\", [\"home\",\"recent\"], frequency=\"mau\")\n",
    "dfloctype[\"dau\"] = get_slice(dfcut, \"LocationType\", [\"home\",\"recent\"], frequency=\"dau\")\n",
    "\n",
    "calculate_percentages(dfloctype[\"mau\"], [\"home\",\"recent\"], \"%ven_\")\n",
    "calculate_percentages(dfloctype[\"dau\"], [\"home\",\"recent\"], \"%ven_\")"
   ]
  },
  {
   "cell_type": "code",
   "execution_count": 95,
   "metadata": {
    "ExecuteTime": {
     "end_time": "2018-07-02T08:11:56.338421Z",
     "start_time": "2018-07-02T08:11:56.063714Z"
    }
   },
   "outputs": [],
   "source": [
    "df_loctype_pyramid = {}\n",
    "#dfcut_man = df[(~df[\"Education\"].isnull()) & (df[\"Gender\"] == \"man\") & (df[\"AgeBucket\"] == \"all\") & (df[\"Device\"].isnull()) &  (df[\"Group\"] == \"Expats (Venezuela)\") & (df[\"LocationType\"] == \"home_recent\") ]\n",
    "dfcut_man = df[(df[\"LocationType\"].apply(lambda x : x in [\"home\",\"recent\"])) & (df[\"Device\"].isnull()) & (df[\"Education\"].isnull()) & (df[\"Gender\"] == \"man\") & (df[\"AgeBucket\"] == \"all\") &  (df[\"Group\"] == \"Expats (Venezuela)\") ]\n",
    "df_loctype_pyramid[\"mau_man\"] = get_slice(dfcut_man, \"LocationType\", [\"home\",\"recent\"], frequency=\"mau\")\n",
    "df_loctype_pyramid[\"dau_man\"] = get_slice(dfcut_man, \"LocationType\", [\"home\",\"recent\"], frequency=\"dau\")\n",
    "\n",
    "dfcut_woman = df[(df[\"LocationType\"].apply(lambda x : x in [\"home\",\"recent\"])) & (df[\"Device\"].isnull()) & (df[\"Education\"].isnull()) & (df[\"Gender\"] == \"woman\") & (df[\"AgeBucket\"] == \"all\") &  (df[\"Group\"] == \"Expats (Venezuela)\") ]\n",
    "df_loctype_pyramid[\"mau_woman\"] = get_slice(dfcut_woman, \"LocationType\", [\"home\",\"recent\"], frequency=\"mau\")\n",
    "df_loctype_pyramid[\"dau_woman\"] = get_slice(dfcut_woman, \"LocationType\", [\"home\",\"recent\"], frequency=\"dau\")\n",
    "\n",
    "df_loctype_pyramid[\"dau\"] = pd.merge(df_loctype_pyramid[\"dau_man\"],df_loctype_pyramid[\"dau_woman\"], on=[\"Location\",\"Frequency\"], suffixes=(\"_man\",\"_woman\"))\n",
    "df_loctype_pyramid[\"mau\"] = pd.merge(df_loctype_pyramid[\"mau_man\"],df_loctype_pyramid[\"mau_woman\"], on=[\"Location\",\"Frequency\"], suffixes=(\"_man\",\"_woman\"))"
   ]
  },
  {
   "cell_type": "code",
   "execution_count": 96,
   "metadata": {
    "ExecuteTime": {
     "end_time": "2018-07-02T08:11:59.423638Z",
     "start_time": "2018-07-02T08:11:59.123331Z"
    }
   },
   "outputs": [],
   "source": [
    "df_loctype_locals = {}\n",
    "dfcut = df[(df[\"LocationType\"].apply(lambda x : x in [\"home\",\"recent\"])) & (df[\"Education\"].isnull()) & (df[\"Device\"].isnull()) & (df[\"AgeBucket\"] == \"all\") &\n",
    "    (df[\"Group\"].isnull()) & (df[\"Gender\"] == \"both\") ].copy()\n",
    "df_loctype_locals[\"mau\"] = get_slice(dfcut, \"LocationType\", [\"home\",\"recent\"], frequency=\"mau\") \n",
    "df_loctype_locals[\"dau\"] = get_slice(dfcut, \"LocationType\", [\"home\",\"recent\"], frequency=\"dau\")\n",
    "\n",
    "calculate_percentages(df_loctype_locals[\"mau\"], [\"home\",\"recent\"], \"%locals_\")\n",
    "calculate_percentages(df_loctype_locals[\"dau\"], [\"home\",\"recent\"], \"%locals_\")\n",
    "\n",
    "for col in [\"home\",\"recent\"]:\n",
    "    del df_loctype_locals[\"mau\"][\"audience_\" + col]\n",
    "    del df_loctype_locals[\"dau\"][\"audience_\" + col]\n"
   ]
  },
  {
   "cell_type": "code",
   "execution_count": 97,
   "metadata": {
    "ExecuteTime": {
     "end_time": "2018-07-02T08:12:02.451975Z",
     "start_time": "2018-07-02T08:12:02.268652Z"
    }
   },
   "outputs": [],
   "source": [
    "dfdevice = {}\n",
    "dfcut = df[(df[\"Education\"].isnull()) & (~df[\"Device\"].isnull()) & (df[\"AgeBucket\"] == \"all\") &  (df[\"Group\"] == \"Expats (Venezuela)\") & (df[\"Gender\"] == \"both\") & (df[\"LocationType\"] == \"home_recent\") ]\n",
    "dfdevice[\"mau\"] = get_slice(dfcut, \"Device\", [\"iOS\",\"Android\",\"Other\"], frequency=\"mau\")\n",
    "dfdevice[\"dau\"] = get_slice(dfcut, \"Device\", [\"iOS\",\"Android\",\"Other\"], frequency=\"dau\")\n",
    "\n",
    "calculate_percentages(dfdevice[\"mau\"], [\"iOS\",\"Android\",\"Other\"], \"%ven_\")\n",
    "calculate_percentages(dfdevice[\"dau\"], [\"iOS\",\"Android\",\"Other\"], \"%ven_\")\n"
   ]
  },
  {
   "cell_type": "code",
   "execution_count": 98,
   "metadata": {
    "ExecuteTime": {
     "end_time": "2018-07-02T08:12:04.853280Z",
     "start_time": "2018-07-02T08:12:04.674948Z"
    }
   },
   "outputs": [],
   "source": [
    "df_device_pyramid = {}\n",
    "\n",
    "dfcut_man = df[(~df[\"Device\"].isnull()) & (df[\"Education\"].isnull()) & (df[\"Gender\"] == \"man\") & (df[\"AgeBucket\"] == \"all\") & (df[\"Group\"] == \"Expats (Venezuela)\") & (df[\"LocationType\"] == \"home_recent\") ]\n",
    "df_device_pyramid[\"mau_man\"] = get_slice(dfcut_man, \"Device\", [\"iOS\",\"Android\",\"Other\"], frequency=\"mau\")\n",
    "df_device_pyramid[\"dau_man\"] = get_slice(dfcut_man, \"Device\", [\"iOS\",\"Android\",\"Other\"], frequency=\"dau\")\n",
    "\n",
    "dfcut_woman = df[(~df[\"Device\"].isnull()) & (df[\"Education\"].isnull()) & (df[\"Gender\"] == \"woman\") & (df[\"AgeBucket\"] == \"all\") & (df[\"Group\"] == \"Expats (Venezuela)\") & (df[\"LocationType\"] == \"home_recent\") ]\n",
    "\n",
    "df_device_pyramid[\"mau_woman\"] = get_slice(dfcut_woman, \"Device\", [\"iOS\",\"Android\",\"Other\"], frequency=\"mau\")\n",
    "df_device_pyramid[\"dau_woman\"] = get_slice(dfcut_woman, \"Device\", [\"iOS\",\"Android\",\"Other\"], frequency=\"dau\")\n",
    "\n",
    "df_device_pyramid[\"dau\"] = pd.merge(df_device_pyramid[\"dau_man\"],df_device_pyramid[\"dau_woman\"], on=[\"Location\",\"Frequency\"], suffixes=(\"_man\",\"_woman\"))\n",
    "df_device_pyramid[\"mau\"] = pd.merge(df_device_pyramid[\"mau_man\"],df_device_pyramid[\"mau_woman\"], on=[\"Location\",\"Frequency\"], suffixes=(\"_man\",\"_woman\"))"
   ]
  },
  {
   "cell_type": "code",
   "execution_count": 99,
   "metadata": {
    "ExecuteTime": {
     "end_time": "2018-07-02T08:12:07.418525Z",
     "start_time": "2018-07-02T08:12:07.213702Z"
    }
   },
   "outputs": [],
   "source": [
    "df_device_locals = {}\n",
    "dfcut = df[(~df[\"Device\"].isnull()) & (df[\"Education\"].isnull()) & (df[\"AgeBucket\"] == \"all\") & (df[\"Group\"].isnull()) & (df[\"Gender\"] == \"both\") & (df[\"LocationType\"] == \"home_recent\") ].copy()\n",
    "df_device_locals[\"mau\"] = get_slice(dfcut, \"Device\", [\"iOS\",\"Android\",\"Other\"], frequency=\"mau\") \n",
    "df_device_locals[\"dau\"] = get_slice(dfcut, \"Device\", [\"iOS\",\"Android\",\"Other\"], frequency=\"dau\")\n",
    "\n",
    "calculate_percentages(df_device_locals[\"mau\"], [\"iOS\",\"Android\",\"Other\"], \"%locals_\")\n",
    "calculate_percentages(df_device_locals[\"dau\"], [\"iOS\",\"Android\",\"Other\"], \"%locals_\")\n",
    "\n",
    "for col in [\"iOS\",\"Android\",\"Other\"]:\n",
    "    del df_device_locals[\"mau\"][\"audience_\" + col]\n",
    "    del df_device_locals[\"dau\"][\"audience_\" + col]\n"
   ]
  },
  {
   "cell_type": "code",
   "execution_count": 100,
   "metadata": {
    "ExecuteTime": {
     "end_time": "2018-07-02T08:12:09.635149Z",
     "start_time": "2018-07-02T08:12:09.500293Z"
    }
   },
   "outputs": [],
   "source": [
    "dfedu = {}\n",
    "dfcut = df[(~df[\"Education\"].isnull()) & (df[\"Device\"].isnull()) & (df[\"AgeBucket\"] == \"all\") &  (df[\"Group\"] == \"Expats (Venezuela)\") & (df[\"Gender\"] == \"both\") & (df[\"LocationType\"] == \"home_recent\") ]\n",
    "dfedu[\"mau\"] = get_slice(dfcut, \"Education\", [\"graduated\", \"high_school\"], frequency=\"mau\")\n",
    "dfedu[\"dau\"] = get_slice(dfcut, \"Education\", [\"graduated\", \"high_school\"], frequency=\"dau\")\n",
    "\n",
    "calculate_percentages(dfedu[\"mau\"], [\"graduated\", \"high_school\"], \"%ven_\")\n",
    "calculate_percentages(dfedu[\"dau\"], [\"graduated\", \"high_school\"], \"%ven_\")\n"
   ]
  },
  {
   "cell_type": "code",
   "execution_count": 101,
   "metadata": {
    "ExecuteTime": {
     "end_time": "2018-07-02T08:12:12.750415Z",
     "start_time": "2018-07-02T08:12:12.484212Z"
    },
    "run_control": {
     "marked": true
    }
   },
   "outputs": [],
   "source": [
    "df_edu_pyramid = {}\n",
    "dfcut_man = df[(~df[\"Education\"].isnull()) & (df[\"Gender\"] == \"man\") & (df[\"AgeBucket\"] == \"all\") & (df[\"Device\"].isnull()) &  (df[\"Group\"] == \"Expats (Venezuela)\") & (df[\"LocationType\"] == \"home_recent\") ]\n",
    "df_edu_pyramid[\"mau_man\"] = get_slice(dfcut_man, \"Education\", [\"graduated\", \"high_school\"], frequency=\"mau\")\n",
    "df_edu_pyramid[\"dau_man\"] = get_slice(dfcut_man,  \"Education\", [\"graduated\", \"high_school\"], frequency=\"dau\")\n",
    "\n",
    "dfcut_woman = df[(~df[\"Education\"].isnull()) & (df[\"Gender\"] == \"woman\") & (df[\"AgeBucket\"] == \"all\") & (df[\"Device\"].isnull()) &  (df[\"Group\"] == \"Expats (Venezuela)\") & (df[\"LocationType\"] == \"home_recent\") ]\n",
    "df_edu_pyramid[\"mau_woman\"] = get_slice(dfcut_woman, \"Education\", [\"graduated\", \"high_school\"], frequency=\"mau\")\n",
    "df_edu_pyramid[\"dau_woman\"] = get_slice(dfcut_woman, \"Education\", [\"graduated\", \"high_school\"], frequency=\"dau\")\n",
    "\n",
    "df_edu_pyramid[\"dau\"] = pd.merge(df_edu_pyramid[\"dau_man\"],df_edu_pyramid[\"dau_woman\"], on=[\"Location\",\"Frequency\"], suffixes=(\"_man\",\"_woman\"))\n",
    "df_edu_pyramid[\"mau\"] = pd.merge(df_edu_pyramid[\"mau_man\"],df_edu_pyramid[\"mau_woman\"], on=[\"Location\",\"Frequency\"], suffixes=(\"_man\",\"_woman\"))\n"
   ]
  },
  {
   "cell_type": "code",
   "execution_count": 102,
   "metadata": {
    "ExecuteTime": {
     "end_time": "2018-07-02T08:12:15.835517Z",
     "start_time": "2018-07-02T08:12:15.670647Z"
    }
   },
   "outputs": [],
   "source": [
    "df_edu_locals = {}\n",
    "dfcut = df[~(df[\"Education\"].isnull()) & (df[\"Device\"].isnull()) & (df[\"AgeBucket\"] == \"all\") &\n",
    "    (df[\"Group\"].isnull()) & (df[\"Gender\"] == \"both\") & (df[\"LocationType\"] == \"home_recent\") ].copy()\n",
    "df_edu_locals[\"mau\"] = get_slice(dfcut, \"Education\", [\"graduated\", \"high_school\"], frequency=\"mau\") \n",
    "df_edu_locals[\"dau\"] = get_slice(dfcut, \"Education\", [\"graduated\", \"high_school\"], frequency=\"dau\")\n",
    "\n",
    "calculate_percentages(df_edu_locals[\"mau\"], [\"graduated\", \"high_school\"], \"%locals_\")\n",
    "calculate_percentages(df_edu_locals[\"dau\"], [\"graduated\", \"high_school\"], \"%locals_\")\n",
    "\n",
    "for col in [\"graduated\", \"high_school\"]:\n",
    "    del df_edu_locals[\"mau\"][\"audience_\" + col]\n",
    "    del df_edu_locals[\"dau\"][\"audience_\" + col]\n"
   ]
  },
  {
   "cell_type": "code",
   "execution_count": 103,
   "metadata": {
    "ExecuteTime": {
     "end_time": "2018-07-02T08:12:18.295612Z",
     "start_time": "2018-07-02T08:12:18.126336Z"
    }
   },
   "outputs": [],
   "source": [
    "for dfopt in [dfgender, dfage, dfedu, dfdevice, dfloctype, \n",
    "              df_age_pyramid, df_edu_pyramid, df_device_pyramid, df_loctype_pyramid,\n",
    "              df_age_locals, df_edu_locals, df_device_locals,  df_loctype_locals]:\n",
    "    dfopt[\"dau\"] = dfopt[\"dau\"].drop_duplicates()\n",
    "    dfopt[\"mau\"] = dfopt[\"mau\"].drop_duplicates()"
   ]
  },
  {
   "cell_type": "code",
   "execution_count": 112,
   "metadata": {
    "ExecuteTime": {
     "end_time": "2018-07-02T08:25:28.801896Z",
     "start_time": "2018-07-02T08:25:28.479123Z"
    },
    "code_folding": [
     17,
     48,
     50
    ]
   },
   "outputs": [
    {
     "name": "stdout",
     "output_type": "stream",
     "text": [
      "%ven_audience_man\n",
      "%ven_audience_woman\n",
      "%ven_audience_home\n",
      "%ven_audience_recent\n",
      "%ven_audience_adolecent\n",
      "%ven_audience_young_adult\n",
      "%ven_audience_adult\n",
      "%ven_audience_middle_age\n",
      "%ven_audience_elder\n",
      "%locals_audience_man\n",
      "%locals_audience_woman\n",
      "%locals_audience_adolecent\n",
      "%locals_audience_young_adult\n",
      "%locals_audience_adult\n",
      "%locals_audience_middle_age\n",
      "%locals_audience_elder\n",
      "%locals_audience_home\n",
      "%locals_audience_recent\n",
      "%ven_audience_iOS\n",
      "%ven_audience_Android\n",
      "%ven_audience_Other\n",
      "%locals_audience_iOS\n",
      "%locals_audience_Android\n",
      "%locals_audience_Other\n",
      "%ven_audience_graduated\n",
      "%ven_audience_high_school\n",
      "%locals_audience_graduated\n",
      "%locals_audience_high_school\n",
      "%diff_audience_home\n",
      "%diff_audience_recent\n",
      "%diff_audience_man\n",
      "%diff_audience_woman\n",
      "%diff_audience_adolecent\n",
      "%diff_audience_young_adult\n",
      "%diff_audience_adult\n",
      "%diff_audience_middle_age\n",
      "%diff_audience_elder\n",
      "%diff_audience_graduated\n",
      "%diff_audience_high_school\n",
      "%diff_audience_iOS\n",
      "%diff_audience_Android\n",
      "%diff_audience_Other\n"
     ]
    }
   ],
   "source": [
    "merged = {}\n",
    "\n",
    "merged[\"mau\"] = pd.merge(dfgender[\"mau\"], dfloctype[\"mau\"]).merge(dfage[\"mau\"]).merge(df_gender_locals[\"mau\"])\n",
    "merged[\"mau\"] = merged[\"mau\"].merge(df_age_locals[\"mau\"]).merge(df_age_pyramid[\"mau\"]).merge(df_loctype_locals[\"mau\"]).merge(df_loctype_pyramid[\"mau\"])\n",
    "\n",
    "merged[\"dau\"] = pd.merge(dfgender[\"dau\"], dfloctype[\"dau\"]).merge(dfage[\"dau\"]).merge(df_gender_locals[\"dau\"])\n",
    "merged[\"dau\"] = merged[\"dau\"].merge(df_age_locals[\"dau\"]).merge(df_age_pyramid[\"dau\"]).merge(df_loctype_locals[\"dau\"]).merge(df_loctype_pyramid[\"dau\"])\n",
    "\n",
    "if not dfdevice[\"mau\"].empty:\n",
    "    merged[\"mau\"] = merged[\"mau\"].merge(dfdevice[\"mau\"]).merge(df_device_pyramid[\"mau\"]).merge(df_device_locals[\"mau\"])\n",
    "    merged[\"dau\"] = merged[\"dau\"].merge(dfdevice[\"dau\"]).merge(df_device_pyramid[\"dau\"]).merge(df_device_locals[\"dau\"])\n",
    "    \n",
    "if not dfedu[\"mau\"].empty:\n",
    "    merged[\"mau\"] = merged[\"mau\"].merge(dfedu[\"mau\"]).merge(df_edu_pyramid[\"mau\"]).merge(df_edu_locals[\"mau\"])\n",
    "    merged[\"dau\"] = merged[\"dau\"].merge(dfedu[\"dau\"]).merge(df_edu_pyramid[\"dau\"]).merge(df_edu_locals[\"dau\"])\n",
    "       \n",
    "concated = pd.concat([merged[\"mau\"], merged[\"dau\"]])\n",
    "\n",
    "venezuelans = df[(df[\"Education\"].isnull()) & (df[\"Device\"].isnull()) & (df[\"AgeBucket\"] == \"all\") & (df[\"Group\"] == \"Expats (Venezuela)\") & (df[\"Gender\"] == \"both\") & (df[\"LocationType\"] == \"home_recent\")]\n",
    "allmigrants = df[(df[\"Education\"].isnull()) & (df[\"Device\"].isnull()) & (df[\"AgeBucket\"] == \"all\") & (df[\"Group\"] == \"Ex-pats (All)\") & (df[\"Gender\"] == \"both\") & (df[\"LocationType\"] == \"home_recent\")]\n",
    "allpopulation = df[(df[\"Education\"].isnull()) & (df[\"Device\"].isnull()) & (df[\"AgeBucket\"] == \"all\") & (df[\"Group\"].isnull()) & (df[\"Gender\"] == \"both\") & (df[\"LocationType\"] == \"home_recent\")]\n",
    "\n",
    "dffinal = pd.merge(venezuelans[[\"dau_audience\",\"mau_audience\",\"Location\",\"LocationHierarchy\"]], concated)\n",
    "dffinal[\"venezuelans\"] = dffinal[\"mau_audience\"].where( dffinal[\"Frequency\"]==\"Monthly\", dffinal[\"dau_audience\"]) \n",
    "del dffinal[\"mau_audience\"]\n",
    "del dffinal[\"dau_audience\"]\n",
    "\n",
    "dffinal = pd.merge(allmigrants[[\"dau_audience\",\"mau_audience\",\"Location\",\"LocationHierarchy\"]], dffinal)\n",
    "dffinal[\"allmigrants\"] = dffinal[\"mau_audience\"].where( dffinal[\"Frequency\"]==\"Monthly\", dffinal[\"dau_audience\"]) \n",
    "del dffinal[\"mau_audience\"]\n",
    "del dffinal[\"dau_audience\"]\n",
    "\n",
    "dffinal = pd.merge(allpopulation[[\"dau_audience\",\"mau_audience\",\"Location\",\"LocationHierarchy\"]], dffinal)\n",
    "dffinal[\"allpopulation\"] = dffinal[\"mau_audience\"].where( dffinal[\"Frequency\"]==\"Monthly\", dffinal[\"dau_audience\"]) \n",
    "del dffinal[\"mau_audience\"]\n",
    "del dffinal[\"dau_audience\"]\n",
    "\n",
    "dffinal[\"ven/migrants\"] = dffinal[\"venezuelans\"] / dffinal[\"allmigrants\"]\n",
    "dffinal[\"ven/pop\"] = dffinal[\"venezuelans\"] / dffinal[\"allpopulation\"]\n",
    "\n",
    "dffinal[\"100ven/migrants\"] = 100. * dffinal[\"ven/migrants\"]\n",
    "dffinal[\"100ven/pop\"] = 100. * dffinal[\"ven/pop\"]\n",
    "\n",
    "for trans_col in [\"ven/migrants\", \"ven/pop\"]:\n",
    "    dffinal[trans_col] = dffinal[trans_col].apply(lambda x: \"%.4f\" % x)\n",
    "for trans_col in [\"100ven/migrants\", \"100ven/pop\"]:\n",
    "    dffinal[trans_col] = dffinal[trans_col].apply(lambda x: \"%.2f\" % x)\n",
    "\n",
    "dffinal[\"not_enough_data\"] = False\n",
    "dffinal.loc[dffinal[\"venezuelans\"] <= 1000, \"not_enough_data\"] = True \n",
    "\n",
    "for col in [\"home\",\"recent\"] + [\"man\",\"woman\"] + [\"adolecent\",\"young_adult\",\"adult\",\"middle_age\", \"elder\"] + [\"graduated\", \"high_school\"] +  [\"iOS\",\"Android\",\"Other\"]:\n",
    "    dffinal[\"%diff_audience_\" + col] = dffinal[\"%ven_audience_\" + col] - dffinal[\"%locals_audience_\" + col]\n",
    "\n",
    "for col in dffinal.keys():\n",
    "    if col.startswith(\"%\"):\n",
    "        print(col)\n",
    "        dffinal[col] = dffinal[col].round(2)\n",
    "\n",
    "dffinal.to_csv(\"merged_06_29.csv\", index=False)"
   ]
  },
  {
   "cell_type": "code",
   "execution_count": null,
   "metadata": {},
   "outputs": [],
   "source": []
  }
 ],
 "metadata": {
  "kernelspec": {
   "display_name": "Python 3",
   "language": "python",
   "name": "python3"
  },
  "language_info": {
   "codemirror_mode": {
    "name": "ipython",
    "version": 3
   },
   "file_extension": ".py",
   "mimetype": "text/x-python",
   "name": "python",
   "nbconvert_exporter": "python",
   "pygments_lexer": "ipython3",
   "version": "3.6.5"
  },
  "varInspector": {
   "cols": {
    "lenName": 16,
    "lenType": 16,
    "lenVar": 40
   },
   "kernels_config": {
    "python": {
     "delete_cmd_postfix": "",
     "delete_cmd_prefix": "del ",
     "library": "var_list.py",
     "varRefreshCmd": "print(var_dic_list())"
    },
    "r": {
     "delete_cmd_postfix": ") ",
     "delete_cmd_prefix": "rm(",
     "library": "var_list.r",
     "varRefreshCmd": "cat(var_dic_list()) "
    }
   },
   "types_to_exclude": [
    "module",
    "function",
    "builtin_function_or_method",
    "instance",
    "_Feature"
   ],
   "window_display": false
  }
 },
 "nbformat": 4,
 "nbformat_minor": 2
}
