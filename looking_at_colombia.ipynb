{
 "cells": [
  {
   "cell_type": "code",
   "execution_count": 1,
   "metadata": {
    "ExecuteTime": {
     "end_time": "2018-11-21T17:02:49.610222Z",
     "start_time": "2018-11-21T17:02:48.270601Z"
    },
    "run_control": {
     "marked": true
    }
   },
   "outputs": [],
   "source": [
    "import json\n",
    "import pandas as pd\n",
    "import ast\n",
    "import datetime\n",
    "from tabulate import tabulate\n",
    "from misc import display, convert_unixtime, convert_country_code, cut, copy_rename, get_slice, calculate_percentages\n",
    "from misc import extract_relationship, extract_education, extract_group, agebuckets, expand, get_item"
   ]
  },
  {
   "cell_type": "code",
   "execution_count": 2,
   "metadata": {
    "ExecuteTime": {
     "end_time": "2018-11-21T17:02:51.610112Z",
     "start_time": "2018-11-21T17:02:51.508122Z"
    },
    "code_folding": [],
    "run_control": {
     "marked": true
    }
   },
   "outputs": [],
   "source": [
    "#infile = \"collections/colombia/dataframe_collected_finished_1526497778.csv.gz\" # From 16th May\n",
    "#infile = \"collections/colombia/dataframe_collected_finished_1526595686.csv.gz\" # From 18th May\n",
    "#infile = \"collections/colombia/dataframe_collected_finished_1526754549.csv.gz\" # From 19th May\n",
    "#infile = \"collections/colombia/dataframe_collected_finished_1527055300.csv.gz\" # From 23th May   \n",
    "#infile = \"collections/colombia/dataframe_collected_finished_1527086071.csv.gz\" # From 23th May\n",
    "#infile = \"collections/colombia/dataframe_collected_finished_1527152527.csv.gz\" # From 24th May\n",
    "#infile = \"collections/colombia/dataframe_collected_finished_1527162372.csv.gz\" # From 24th May\n",
    "#infile = \"collections/colombia/dataframe_collected_finished_1527262566.csv.gz\" # From 25th May\n",
    "#infile = \"collections/colombia/dataframe_collected_finished_1527336923.csv.gz\" # From 26th May\n",
    "#infile = \"collections/colombia/dataframe_collected_finished_1527421314.csv.gz\" # From 27th May\n",
    "#infile = \"collections/colombia/dataframe_collected_finished_1527620434.csv.gz\" # From 28th May\n",
    "#infile = \"collections/colombia/dataframe_collected_finished_1527655611.csv.gz\" # From 29th May\n",
    "#infile = \"collections/colombia/dataframe_collected_finished_1527670079.csv.gz\" # From 30th May\n",
    "#infile = \"collections/colombia/dataframe_collected_finished_1527714408.csv.gz\" # From 31th May\n",
    "#infile = \"collections/colombia/dataframe_collected_finished_1527854965.csv.gz\" # From 1st June\n",
    "#infile = \"collections/colombia/dataframe_collected_finished_1528052984.csv.gz\" # From 3rd June\n",
    "#infile = \"collections/colombia/dataframe_collected_finished_1528190439.csv.gz\" # From 5th June\n",
    "#infile = \"collections/colombia/dataframe_collected_finished_1528297332.csv.gz\" # From 6th June\n",
    "#infile = \"collections/colombia/dataframe_collected_finished_1528410926.csv.gz\" # From 8th June\n",
    "#infile = \"collections/colombia/dataframe_collected_finished_1528531672.csv.gz\" # From 9th June\n",
    "#infile = \"collections/colombia/dataframe_collected_finished_1528635898.csv.gz\" # From 10th June\n",
    "#infile = \"collections/colombia/dataframe_collected_finished_1528793179.csv.gz\" # From 12th June\n",
    "#infile = \"collections/colombia/dataframe_collected_finished_1528925661.csv.gz\" # From 14th June\n",
    "#infile = \"collections/colombia/dataframe_collected_finished_1529055941.csv.gz\" # From 15th June\n",
    "#infile = \"collections/colombia/dataframe_collected_finished_1529181638.csv.gz\" # From 16th June\n",
    "#infile = \"collections/colombia/dataframe_collected_finished_1529319680.csv.gz\" # From 18th June\n",
    "#infile = \"collections/colombia/dataframe_collected_finished_1529483108.csv.gz\" # From 20th June\n",
    "#infile = \"collections/colombia/dataframe_collected_finished_1529789939.csv.gz\" # From 24th June\n",
    "#infile = \"collections/colombia/dataframe_collected_finished_1529923559.csv.gz\" # From 25th June\n",
    "#infile = \"collections/colombia/dataframe_collected_finished_1530043687.csv.gz\" # From 26th June\n",
    "#infile = \"collections/colombia/dataframe_collected_finished_1530166519.csv.gz\" # From 28th June\n",
    "#infile = \"collections/colombia/dataframe_collected_finished_1530302641.csv.gz\" # From 29th June\n",
    "#infile = \"collections/colombia/dataframe_collected_finished_1530458957.csv.gz\" # From 1st July\n",
    "#infile = \"collections/colombia/dataframe_collected_finished_1530628267.csv.gz\" # From 3rd July\n",
    "#infile = \"collections/colombia/dataframe_collected_finished_1530776924.csv.gz\" # From 7th July\n",
    "#infile = \"collections/colombia/dataframe_collected_finished_1531052927.csv.gz\" # From 8th July\n",
    "#infile = \"collections/colombia/dataframe_collected_finished_1531234195.csv.gz\" # From 10th July\n",
    "#infile = \"collections/colombia/dataframe_collected_finished_1531409971.csv.gz\" # From 12th July\n",
    "#infile = \"collections/colombia/dataframe_collected_finished_1531559817.csv.gz\" # From 14th July\n",
    "#infile = \"collections/colombia/dataframe_collected_finished_1531736527.csv.gz\" # From 16th July\n",
    "#infile = \"collections/colombia/dataframe_collected_finished_1531911069.csv.gz\" # From 18th July\n",
    "#infile = \"collections/colombia/dataframe_collected_finished_1532085705.csv.gz\" # From 20th July\n",
    "#infile = \"collections/colombia/dataframe_collected_finished_1532429163.csv.gz\" # From 24th July\n",
    "#infile = \"collections/colombia/dataframe_collected_finished_1532783607.csv.gz\" # From 28th July\n",
    "#infile = \"collections/colombia/dataframe_collected_finished_1533050685.csv.gz\" # From 31th July\n",
    "#infile = \"collections/colombia/dataframe_collected_finished_1533290090.csv.gz\" # From 3rd Aug\n",
    "##infile = \"collections/colombia/dataframe_collected_finished_1533560935.csv.gz\" # From 6th Aug\n",
    "#infile = \"collections/colombia/dataframe_collected_finished_1533729781.csv.gz\" # From 8th Aug\n",
    "#infile = \"collections/colombia/dataframe_collected_finished_1534438206.csv.gz\" # From 16th Aug\n",
    "#infile = \"collections/colombia/dataframe_collected_finished_1535455177.csv.gz\" # From 28th Aug\n",
    "#infile = \"collections/colombia/dataframe_collected_finished_1535613009.csv.gz\" # From 30th Aug\n",
    "#infile = \"collections/colombia/dataframe_collected_finished_1535704009.csv.gz\" # From 31th Aug\n",
    "#infile = \"collections/colombia/dataframe_collected_finished_1535966032.csv.gz\" # From 3rd Sep\n",
    "#infile = \"collections/colombia/dataframe_collected_finished_1536177115.csv.gz\" # From 5th Sep\n",
    "#infile = \"collections/colombia/dataframe_collected_finished_1536413370.csv.gz\" # From 8th Sep\n",
    "#infile = \"collections/colombia/dataframe_collected_finished_1536596784.csv.gz\" # From 10th Sep\n",
    "#infile = \"collections/colombia/dataframe_collected_finished_1536736442.csv.gz\" # From 12th Sep\n",
    "#infile = \"collections/colombia/dataframe_collected_finished_1536826709.csv.gz\" # From 13th Sep\n",
    "#infile = \"collections/colombia/dataframe_collected_finished_1537048958.csv.gz\" # From 16th Sep\n",
    "#infile = \"collections/colombia/dataframe_collected_finished_1537189601.csv.gz\" # From 17th Sep\n",
    "#infile = \"collections/colombia/dataframe_collected_finished_1537419482.csv.gz\" # From 20th Sep\n",
    "#infile = \"collections/colombia/dataframe_collected_finished_1537598782.csv.gz\" # From 22th Sep\n",
    "#infile = \"collections/colombia/dataframe_collected_finished_1537783326.csv.gz\" # From 24th Sep\n",
    "#infile = \"collections/colombia/dataframe_collected_finished_1537919939.csv.gz\" # From 26th Sep\n",
    "#infile = \"collections/colombia/dataframe_collected_finished_1538096500.csv.gz\" # From 28th Sep\n",
    "#infile = \"collections/colombia/dataframe_collected_finished_1538322081.csv.gz\" # From 30th Sep\n",
    "#infile = \"collections/colombia/dataframe_collected_finished_1538548161.csv.gz\" # From 3rd Oct\n",
    "#infile = \"collections/colombia/dataframe_collected_finished_1538822176.csv.gz\" # From 6th Oct\n",
    "#infile = \"collections/colombia/dataframe_collected_finished_1539021159.csv.gz\" # From 8th Oct\n",
    "#infile = \"collections/colombia/dataframe_collected_finished_1539487962.csv.gz\" # From 14th Oct\n",
    "#infile = \"collections/colombia/dataframe_collected_finished_1539690735.csv.gz\" # From 16th Oct\n",
    "#infile = \"collections/colombia/dataframe_collected_finished_1540817728.csv.gz\" # From 29th Oct\n",
    "#infile = \"collections/colombia/dataframe_collected_finished_1540897603.csv.gz\" # From 30th Oct\n",
    "#infile = \"collections/colombia/dataframe_collected_finished_1541057904.csv.gz\" # From 1st Nov\n",
    "#infile = \"collections/colombia/dataframe_collected_finished_1541081301.csv.gz\" # From 1st Nov\n",
    "#infile = \"collections/colombia/dataframe_collected_finished_1541235208.csv.gz\" # From 3rd Nov\n",
    "#infile = \"collections/colombia/dataframe_collected_finished_1541317062.csv.gz\" # From 4th Nov\n",
    "#infile = \"collections/colombia/dataframe_collected_finished_1541416494.csv.gz\" # From 5th Nov\n",
    "#infile = \"collections/colombia/dataframe_collected_finished_1541496075.csv.gz\" # From 6th Nov\n",
    "#infile = \"collections/colombia/dataframe_collected_finished_1541680672.csv.gz\" # From 8th Nov\n",
    "#infile = \"collections/colombia/dataframe_collected_finished_1541845203.csv.gz\" # From 10th Nov\n",
    "#infile = \"collections/colombia/dataframe_collected_finished_1541933084.csv.gz\" # From 11th Nov\n",
    "#infile = \"collections/colombia/dataframe_collected_finished_1542101956.csv.gz\" # From 13th Nov\n",
    "#infile = \"collections/colombia/dataframe_collected_finished_1542225410.csv.gz\" # From 14th Nov\n",
    "infile = \"collections/colombia/dataframe_collected_finished_1542561773.csv.gz\" # From 14th Nov\n"
   ]
  },
  {
   "cell_type": "code",
   "execution_count": 3,
   "metadata": {
    "ExecuteTime": {
     "end_time": "2018-11-21T17:03:12.028704Z",
     "start_time": "2018-11-21T17:02:57.564175Z"
    }
   },
   "outputs": [
    {
     "name": "stderr",
     "output_type": "stream",
     "text": [
      "/home/palotti/p3/lib/python3.6/site-packages/IPython/core/interactiveshell.py:2785: DtypeWarning: Columns (1) have mixed types. Specify dtype option on import or set low_memory=False.\n",
      "  interactivity=interactivity, compiler=compiler, result=result)\n"
     ]
    },
    {
     "name": "stdout",
     "output_type": "stream",
     "text": [
      "Collection made on 18-11\n"
     ]
    }
   ],
   "source": [
    "df = pd.read_csv(infile)\n",
    "day, month = df[\"timestamp\"].apply(lambda x: convert_unixtime(x)).head(1).values[0].split(\"-\")\n",
    "print(\"Collection made on %s-%s\" % (day, month))\n",
    "#print \",\\n\".join(list(df[\"geo_locations\"].unique())).replace(\"'\", '\"')"
   ]
  },
  {
   "cell_type": "code",
   "execution_count": 180,
   "metadata": {
    "ExecuteTime": {
     "end_time": "2018-11-19T09:02:34.401334Z",
     "start_time": "2018-11-19T09:01:24.575258Z"
    },
    "code_folding": [],
    "run_control": {
     "marked": true
    }
   },
   "outputs": [
    {
     "name": "stdout",
     "output_type": "stream",
     "text": [
      "Updating Group information...\n",
      "Adding information regarding devices...\n",
      "Removing redundant cols\n",
      "All Done!\n"
     ]
    }
   ],
   "source": [
    "df[[\"MinAge\",\"MaxAge\",\"Location\",\"LocationHierarchy\",\"LocationType\",\"Gender\",\"Relationship\",\"Education\",\"Group\"]] = df[\"targeting\"].apply(lambda x : expand(ast.literal_eval(x))).apply(pd.Series)\n",
    "\n",
    "if \"citizenship\" in df:\n",
    "    df[\"Group\"] = df[\"citizenship\"].fillna(\"[]\").apply(lambda x : get_item(ast.literal_eval(x)))\n",
    "    print(\"Updating Group information...\")\n",
    "    \n",
    "if \"access_device\" in df:\n",
    "    df[\"Device\"] = df[\"access_device\"].fillna(\"[]\").apply(lambda x : get_item(ast.literal_eval(x)))\n",
    "    print(\"Adding information regarding devices...\")\n",
    "else:\n",
    "    df[\"Device\"] = None\n",
    "    \n",
    "df[\"AgeBucket\"] = df[[\"MinAge\",\"MaxAge\"]].apply(lambda x: agebuckets(x[\"MinAge\"], x[\"MaxAge\"]), axis=1)\n",
    "\n",
    "print(\"Removing redundant cols\")\n",
    "for col in [\"Unnamed: 0\", \"all_fields\", \"targeting\",'behavior', 'citizenship', \"mock_response\", \"access_device\", \n",
    "            \"ages_ranges\", \"household_composition\", 'interests', 'family_statuses', 'genders', 'geo_locations', 'languages',\n",
    "            'name', 'relationship_statuses', 'response', 'scholarities', 'timestamp', 'publisher_platforms',]:\n",
    "    if col in df.keys():\n",
    "        del df[col]\n",
    "\n",
    "# Gave up using travel_in   \n",
    "df = df[df[\"LocationType\"] != \"travel_in\"]\n",
    "\n",
    "main_fields = ['demographics', 'MinAge', 'MaxAge', 'Location', 'LocationHierarchy', 'LocationType', 'Gender', 'Relationship', 'Education', 'Group', 'Device', 'AgeBucket']\n",
    "df = df.drop_duplicates(subset=main_fields)\n",
    "\n",
    "education_levels = [\"graduated\", \"high_school\", \"no_degree\"]\n",
    "print(\"All Done!\")\n",
    "# Brief description: \n",
    "# -----------------\n",
    "# Gender: 0 Both, 1 Man, 2 Woman\n",
    "# Age: 13-Null, 13-18, 19-25, 26-40, 41-65, 65+\n",
    "# LocationType: home_recent, home, recent\n"
   ]
  },
  {
   "cell_type": "code",
   "execution_count": 181,
   "metadata": {
    "ExecuteTime": {
     "end_time": "2018-11-19T09:02:35.855389Z",
     "start_time": "2018-11-19T09:02:35.701550Z"
    },
    "run_control": {
     "marked": true
    }
   },
   "outputs": [],
   "source": [
    "dfgender = {}\n",
    "dfcut = df[(df[\"Gender\"].apply(lambda x : x in [\"man\",\"woman\"])) & (df[\"Education\"].isnull()) & (df[\"Device\"].isnull()) & (df[\"AgeBucket\"] == \"all\") & (df[\"Group\"] == \"Expats (Venezuela)\") & (df[\"LocationType\"] == \"home_recent\")].copy()\n",
    "dfgender[\"mau\"] = get_slice(dfcut, \"Gender\", [\"man\",\"woman\"], frequency=\"mau\")\n",
    "dfgender[\"dau\"] = get_slice(dfcut, \"Gender\", [\"man\",\"woman\"], frequency=\"dau\")\n",
    "calculate_percentages(dfgender[\"mau\"], [\"man\",\"woman\"], \"%ven_\")\n",
    "calculate_percentages(dfgender[\"dau\"], [\"man\",\"woman\"], \"%ven_\")"
   ]
  },
  {
   "cell_type": "code",
   "execution_count": 182,
   "metadata": {
    "ExecuteTime": {
     "end_time": "2018-11-19T09:02:37.195359Z",
     "start_time": "2018-11-19T09:02:37.053361Z"
    },
    "run_control": {
     "marked": true
    }
   },
   "outputs": [],
   "source": [
    "df_gender_locals = {}\n",
    "dfcut = df[(df[\"Gender\"].apply(lambda x : x in [\"man\",\"woman\"])) & (df[\"Education\"].isnull()) & (df[\"Device\"].isnull()) \n",
    "           & (df[\"AgeBucket\"] == \"all\") & (df[\"Group\"].isnull()) & (df[\"LocationType\"] == \"home_recent\") ].copy()\n",
    "\n",
    "df_gender_locals[\"mau\"] = get_slice(dfcut, \"Gender\", [\"man\",\"woman\"], frequency=\"mau\") \n",
    "df_gender_locals[\"dau\"] = get_slice(dfcut, \"Gender\", [\"man\",\"woman\"], frequency=\"dau\")\n",
    "\n",
    "calculate_percentages(df_gender_locals[\"mau\"], [\"man\",\"woman\"], \"%locals_\")\n",
    "calculate_percentages(df_gender_locals[\"dau\"], [\"man\",\"woman\"], \"%locals_\")\n",
    "\n",
    "for col in [\"man\",\"woman\"]:\n",
    "    del df_gender_locals[\"mau\"][\"audience_\" + col]\n",
    "    del df_gender_locals[\"dau\"][\"audience_\" + col]\n"
   ]
  },
  {
   "cell_type": "code",
   "execution_count": 183,
   "metadata": {
    "ExecuteTime": {
     "end_time": "2018-11-19T09:02:38.626288Z",
     "start_time": "2018-11-19T09:02:38.471913Z"
    },
    "code_folding": [],
    "run_control": {
     "marked": true
    }
   },
   "outputs": [],
   "source": [
    "dfage = {}\n",
    "dfcut = df[(df[\"Education\"].isnull()) & (df[\"Device\"].isnull()) &  (df[\"AgeBucket\"].apply(lambda x : x in [\"adolecent\",\"young_adult\",\"adult\",\"middle_age\", \"elder\"])) &\n",
    "    (df[\"Group\"] == \"Expats (Venezuela)\") & (df[\"Gender\"] == \"both\") & (df[\"LocationType\"] == \"home_recent\") ].copy()\n",
    "dfage[\"mau\"] = get_slice(dfcut, \"AgeBucket\", [\"adolecent\",\"young_adult\",\"adult\",\"middle_age\", \"elder\"], frequency=\"mau\") \n",
    "dfage[\"dau\"] = get_slice(dfcut, \"AgeBucket\", [\"adolecent\",\"young_adult\",\"adult\",\"middle_age\", \"elder\"], frequency=\"dau\")\n",
    "\n",
    "calculate_percentages(dfage[\"mau\"], [\"adolecent\",\"young_adult\",\"adult\",\"middle_age\", \"elder\"], \"%ven_\")\n",
    "calculate_percentages(dfage[\"dau\"], [\"adolecent\",\"young_adult\",\"adult\",\"middle_age\", \"elder\"], \"%ven_\")\n"
   ]
  },
  {
   "cell_type": "code",
   "execution_count": 184,
   "metadata": {
    "ExecuteTime": {
     "end_time": "2018-11-19T09:02:40.474735Z",
     "start_time": "2018-11-19T09:02:40.196880Z"
    },
    "run_control": {
     "marked": true
    }
   },
   "outputs": [],
   "source": [
    "df_age_pyramid = {}\n",
    "dfcut_man = df[(df[\"AgeBucket\"].apply(lambda x : x in [\"adolecent\",\"young_adult\",\"adult\",\"middle_age\", \"elder\"])) & (df[\"Gender\"] == \"man\") &\n",
    "           (df[\"Education\"].isnull()) & (df[\"Device\"].isnull()) &  (df[\"Group\"] == \"Expats (Venezuela)\") & (df[\"LocationType\"] == \"home_recent\") ]\n",
    "df_age_pyramid[\"mau_man\"] = get_slice(dfcut_man, \"AgeBucket\", [\"adolecent\",\"young_adult\",\"adult\",\"middle_age\", \"elder\"], frequency=\"mau\")\n",
    "df_age_pyramid[\"dau_man\"] = get_slice(dfcut_man, \"AgeBucket\", [\"adolecent\",\"young_adult\",\"adult\",\"middle_age\", \"elder\"], frequency=\"dau\")\n",
    "\n",
    "dfcut_woman = df[(df[\"AgeBucket\"].apply(lambda x : x in [\"adolecent\",\"young_adult\",\"adult\",\"middle_age\", \"elder\"])) & (df[\"Gender\"] == \"woman\") &\n",
    "           (df[\"Education\"].isnull()) & (df[\"Device\"].isnull()) &  (df[\"Group\"] == \"Expats (Venezuela)\") & (df[\"LocationType\"] == \"home_recent\") ]\n",
    "df_age_pyramid[\"mau_woman\"] = get_slice(dfcut_woman, \"AgeBucket\", [\"adolecent\",\"young_adult\",\"adult\",\"middle_age\", \"elder\"], frequency=\"mau\")\n",
    "df_age_pyramid[\"dau_woman\"] = get_slice(dfcut_woman, \"AgeBucket\", [\"adolecent\",\"young_adult\",\"adult\",\"middle_age\", \"elder\"], frequency=\"dau\")\n",
    "\n",
    "df_age_pyramid[\"dau\"] = pd.merge(df_age_pyramid[\"dau_man\"],df_age_pyramid[\"dau_woman\"], on=[\"Location\",\"Frequency\"], suffixes=(\"_man\",\"_woman\"))\n",
    "df_age_pyramid[\"mau\"] = pd.merge(df_age_pyramid[\"mau_man\"],df_age_pyramid[\"mau_woman\"], on=[\"Location\",\"Frequency\"], suffixes=(\"_man\",\"_woman\"))\n"
   ]
  },
  {
   "cell_type": "code",
   "execution_count": 185,
   "metadata": {
    "ExecuteTime": {
     "end_time": "2018-11-19T09:02:42.110381Z",
     "start_time": "2018-11-19T09:02:41.898239Z"
    },
    "run_control": {
     "marked": true
    }
   },
   "outputs": [],
   "source": [
    "df_age_locals = {}\n",
    "dfcut = df[(df[\"Education\"].isnull()) & (df[\"Device\"].isnull()) &  (df[\"AgeBucket\"].apply(lambda x : x in [\"adolecent\",\"young_adult\",\"adult\",\"middle_age\", \"elder\"])) &\n",
    "    (df[\"Group\"].isnull()) & (df[\"Gender\"] == \"both\") & (df[\"LocationType\"] == \"home_recent\") ].copy()\n",
    "df_age_locals[\"mau\"] = get_slice(dfcut, \"AgeBucket\", [\"adolecent\",\"young_adult\",\"adult\",\"middle_age\", \"elder\"], frequency=\"mau\") \n",
    "df_age_locals[\"dau\"] = get_slice(dfcut, \"AgeBucket\", [\"adolecent\",\"young_adult\",\"adult\",\"middle_age\", \"elder\"], frequency=\"dau\")\n",
    "\n",
    "calculate_percentages(df_age_locals[\"mau\"], [\"adolecent\",\"young_adult\",\"adult\",\"middle_age\", \"elder\"], \"%locals_\")\n",
    "calculate_percentages(df_age_locals[\"dau\"], [\"adolecent\",\"young_adult\",\"adult\",\"middle_age\", \"elder\"], \"%locals_\")\n",
    "\n",
    "for col in [\"adolecent\",\"young_adult\",\"adult\",\"middle_age\", \"elder\"]:\n",
    "    del df_age_locals[\"mau\"][\"audience_\" + col]\n",
    "    del df_age_locals[\"dau\"][\"audience_\" + col]\n"
   ]
  },
  {
   "cell_type": "code",
   "execution_count": 186,
   "metadata": {
    "ExecuteTime": {
     "end_time": "2018-11-19T09:02:43.709187Z",
     "start_time": "2018-11-19T09:02:43.571735Z"
    },
    "run_control": {
     "marked": true
    }
   },
   "outputs": [],
   "source": [
    "# ToDO: it fails for the colection made with only home/recent\n",
    "dfloctype = {}\n",
    "dfcut = df[(df[\"LocationType\"].apply(lambda x : x in [\"home\",\"recent\",\"travel_in\",\"home_recent\"])) & (df[\"Education\"].isnull()) & (df[\"Device\"].isnull()) & (df[\"AgeBucket\"] == \"all\") & \n",
    "           (df[\"Group\"] == \"Expats (Venezuela)\") & (df[\"Gender\"] == \"both\") ]\n",
    "dfloctype[\"mau\"] = get_slice(dfcut, \"LocationType\", [\"home\",\"recent\"], frequency=\"mau\")\n",
    "dfloctype[\"dau\"] = get_slice(dfcut, \"LocationType\", [\"home\",\"recent\"], frequency=\"dau\")\n",
    "\n",
    "calculate_percentages(dfloctype[\"mau\"], [\"home\",\"recent\"], \"%ven_\")\n",
    "calculate_percentages(dfloctype[\"dau\"], [\"home\",\"recent\"], \"%ven_\")"
   ]
  },
  {
   "cell_type": "code",
   "execution_count": 187,
   "metadata": {
    "ExecuteTime": {
     "end_time": "2018-11-19T09:02:45.315225Z",
     "start_time": "2018-11-19T09:02:45.092361Z"
    },
    "run_control": {
     "marked": true
    }
   },
   "outputs": [],
   "source": [
    "df_loctype_pyramid = {}\n",
    "#dfcut_man = df[(~df[\"Education\"].isnull()) & (df[\"Gender\"] == \"man\") & (df[\"AgeBucket\"] == \"all\") & (df[\"Device\"].isnull()) &  (df[\"Group\"] == \"Expats (Venezuela)\") & (df[\"LocationType\"] == \"home_recent\") ]\n",
    "dfcut_man = df[(df[\"LocationType\"].apply(lambda x : x in [\"home\",\"recent\"])) & (df[\"Device\"].isnull()) & (df[\"Education\"].isnull()) & (df[\"Gender\"] == \"man\") & (df[\"AgeBucket\"] == \"all\") &  (df[\"Group\"] == \"Expats (Venezuela)\") ]\n",
    "df_loctype_pyramid[\"mau_man\"] = get_slice(dfcut_man, \"LocationType\", [\"home\",\"recent\"], frequency=\"mau\")\n",
    "df_loctype_pyramid[\"dau_man\"] = get_slice(dfcut_man, \"LocationType\", [\"home\",\"recent\"], frequency=\"dau\")\n",
    "\n",
    "dfcut_woman = df[(df[\"LocationType\"].apply(lambda x : x in [\"home\",\"recent\"])) & (df[\"Device\"].isnull()) & (df[\"Education\"].isnull()) & (df[\"Gender\"] == \"woman\") & (df[\"AgeBucket\"] == \"all\") &  (df[\"Group\"] == \"Expats (Venezuela)\") ]\n",
    "df_loctype_pyramid[\"mau_woman\"] = get_slice(dfcut_woman, \"LocationType\", [\"home\",\"recent\"], frequency=\"mau\")\n",
    "df_loctype_pyramid[\"dau_woman\"] = get_slice(dfcut_woman, \"LocationType\", [\"home\",\"recent\"], frequency=\"dau\")\n",
    "\n",
    "df_loctype_pyramid[\"dau\"] = pd.merge(df_loctype_pyramid[\"dau_man\"],df_loctype_pyramid[\"dau_woman\"], on=[\"Location\",\"Frequency\"], suffixes=(\"_man\",\"_woman\"))\n",
    "df_loctype_pyramid[\"mau\"] = pd.merge(df_loctype_pyramid[\"mau_man\"],df_loctype_pyramid[\"mau_woman\"], on=[\"Location\",\"Frequency\"], suffixes=(\"_man\",\"_woman\"))"
   ]
  },
  {
   "cell_type": "code",
   "execution_count": 188,
   "metadata": {
    "ExecuteTime": {
     "end_time": "2018-11-19T09:02:46.844500Z",
     "start_time": "2018-11-19T09:02:46.700075Z"
    },
    "run_control": {
     "marked": true
    }
   },
   "outputs": [],
   "source": [
    "df_loctype_locals = {}\n",
    "dfcut = df[(df[\"LocationType\"].apply(lambda x : x in [\"home\",\"recent\"])) & (df[\"Education\"].isnull()) & (df[\"Device\"].isnull()) & (df[\"AgeBucket\"] == \"all\") &\n",
    "    (df[\"Group\"].isnull()) & (df[\"Gender\"] == \"both\") ].copy()\n",
    "df_loctype_locals[\"mau\"] = get_slice(dfcut, \"LocationType\", [\"home\",\"recent\"], frequency=\"mau\") \n",
    "df_loctype_locals[\"dau\"] = get_slice(dfcut, \"LocationType\", [\"home\",\"recent\"], frequency=\"dau\")\n",
    "\n",
    "calculate_percentages(df_loctype_locals[\"mau\"], [\"home\",\"recent\"], \"%locals_\")\n",
    "calculate_percentages(df_loctype_locals[\"dau\"], [\"home\",\"recent\"], \"%locals_\")\n",
    "\n",
    "for col in [\"home\",\"recent\"]:\n",
    "    del df_loctype_locals[\"mau\"][\"audience_\" + col]\n",
    "    del df_loctype_locals[\"dau\"][\"audience_\" + col]\n"
   ]
  },
  {
   "cell_type": "code",
   "execution_count": 189,
   "metadata": {
    "ExecuteTime": {
     "end_time": "2018-11-19T09:02:48.291377Z",
     "start_time": "2018-11-19T09:02:48.168341Z"
    },
    "run_control": {
     "marked": true
    }
   },
   "outputs": [],
   "source": [
    "dfdevice = {}\n",
    "dfcut = df[(df[\"Education\"].isnull()) & (~df[\"Device\"].isnull()) & (df[\"AgeBucket\"] == \"all\") &  (df[\"Group\"] == \"Expats (Venezuela)\") & (df[\"Gender\"] == \"both\") & (df[\"LocationType\"] == \"home_recent\") ]\n",
    "dfdevice[\"mau\"] = get_slice(dfcut, \"Device\", [\"iOS\",\"Android\",\"Other\"], frequency=\"mau\")\n",
    "dfdevice[\"dau\"] = get_slice(dfcut, \"Device\", [\"iOS\",\"Android\",\"Other\"], frequency=\"dau\")\n",
    "\n",
    "calculate_percentages(dfdevice[\"mau\"], [\"iOS\",\"Android\",\"Other\"], \"%ven_\")\n",
    "calculate_percentages(dfdevice[\"dau\"], [\"iOS\",\"Android\",\"Other\"], \"%ven_\")\n"
   ]
  },
  {
   "cell_type": "code",
   "execution_count": 190,
   "metadata": {
    "ExecuteTime": {
     "end_time": "2018-11-19T09:02:49.863854Z",
     "start_time": "2018-11-19T09:02:49.640494Z"
    },
    "run_control": {
     "marked": true
    }
   },
   "outputs": [],
   "source": [
    "df_device_pyramid = {}\n",
    "\n",
    "dfcut_man = df[(~df[\"Device\"].isnull()) & (df[\"Education\"].isnull()) & (df[\"Gender\"] == \"man\") & (df[\"AgeBucket\"] == \"all\") & (df[\"Group\"] == \"Expats (Venezuela)\") & (df[\"LocationType\"] == \"home_recent\") ]\n",
    "df_device_pyramid[\"mau_man\"] = get_slice(dfcut_man, \"Device\", [\"iOS\",\"Android\",\"Other\"], frequency=\"mau\")\n",
    "df_device_pyramid[\"dau_man\"] = get_slice(dfcut_man, \"Device\", [\"iOS\",\"Android\",\"Other\"], frequency=\"dau\")\n",
    "\n",
    "dfcut_woman = df[(~df[\"Device\"].isnull()) & (df[\"Education\"].isnull()) & (df[\"Gender\"] == \"woman\") & (df[\"AgeBucket\"] == \"all\") & (df[\"Group\"] == \"Expats (Venezuela)\") & (df[\"LocationType\"] == \"home_recent\") ]\n",
    "\n",
    "df_device_pyramid[\"mau_woman\"] = get_slice(dfcut_woman, \"Device\", [\"iOS\",\"Android\",\"Other\"], frequency=\"mau\")\n",
    "df_device_pyramid[\"dau_woman\"] = get_slice(dfcut_woman, \"Device\", [\"iOS\",\"Android\",\"Other\"], frequency=\"dau\")\n",
    "\n",
    "df_device_pyramid[\"dau\"] = pd.merge(df_device_pyramid[\"dau_man\"],df_device_pyramid[\"dau_woman\"], on=[\"Location\",\"Frequency\"], suffixes=(\"_man\",\"_woman\"))\n",
    "df_device_pyramid[\"mau\"] = pd.merge(df_device_pyramid[\"mau_man\"],df_device_pyramid[\"mau_woman\"], on=[\"Location\",\"Frequency\"], suffixes=(\"_man\",\"_woman\"))"
   ]
  },
  {
   "cell_type": "code",
   "execution_count": 191,
   "metadata": {
    "ExecuteTime": {
     "end_time": "2018-11-19T09:02:51.146991Z",
     "start_time": "2018-11-19T09:02:51.036738Z"
    },
    "run_control": {
     "marked": true
    }
   },
   "outputs": [],
   "source": [
    "df_device_locals = {}\n",
    "dfcut = df[(~df[\"Device\"].isnull()) & (df[\"Education\"].isnull()) & (df[\"AgeBucket\"] == \"all\") & (df[\"Group\"].isnull()) & (df[\"Gender\"] == \"both\") & (df[\"LocationType\"] == \"home_recent\") ].copy()\n",
    "df_device_locals[\"mau\"] = get_slice(dfcut, \"Device\", [\"iOS\",\"Android\",\"Other\"], frequency=\"mau\") \n",
    "df_device_locals[\"dau\"] = get_slice(dfcut, \"Device\", [\"iOS\",\"Android\",\"Other\"], frequency=\"dau\")\n",
    "\n",
    "calculate_percentages(df_device_locals[\"mau\"], [\"iOS\",\"Android\",\"Other\"], \"%locals_\")\n",
    "calculate_percentages(df_device_locals[\"dau\"], [\"iOS\",\"Android\",\"Other\"], \"%locals_\")\n",
    "\n",
    "for col in [\"iOS\",\"Android\",\"Other\"]:\n",
    "    del df_device_locals[\"mau\"][\"audience_\" + col]\n",
    "    del df_device_locals[\"dau\"][\"audience_\" + col]\n"
   ]
  },
  {
   "cell_type": "code",
   "execution_count": 192,
   "metadata": {
    "ExecuteTime": {
     "end_time": "2018-11-19T09:02:52.440241Z",
     "start_time": "2018-11-19T09:02:52.338746Z"
    },
    "run_control": {
     "marked": true
    }
   },
   "outputs": [],
   "source": [
    "dfedu = {}\n",
    "dfcut = df[(~df[\"Education\"].isnull()) & (df[\"Device\"].isnull()) & (df[\"AgeBucket\"] == \"all\") &  (df[\"Group\"] == \"Expats (Venezuela)\") & (df[\"Gender\"] == \"both\") & (df[\"LocationType\"] == \"home_recent\") ]\n",
    "dfedu[\"mau\"] = get_slice(dfcut, \"Education\", education_levels, frequency=\"mau\")\n",
    "dfedu[\"dau\"] = get_slice(dfcut, \"Education\", education_levels, frequency=\"dau\")\n",
    "\n",
    "calculate_percentages(dfedu[\"mau\"], education_levels, \"%ven_\")\n",
    "calculate_percentages(dfedu[\"dau\"], education_levels, \"%ven_\")\n"
   ]
  },
  {
   "cell_type": "code",
   "execution_count": 193,
   "metadata": {
    "ExecuteTime": {
     "end_time": "2018-11-19T09:02:54.271358Z",
     "start_time": "2018-11-19T09:02:54.090835Z"
    },
    "run_control": {
     "marked": true
    }
   },
   "outputs": [],
   "source": [
    "df_edu_pyramid = {}\n",
    "dfcut_man = df[(~df[\"Education\"].isnull()) & (df[\"Gender\"] == \"man\") & (df[\"AgeBucket\"] == \"all\") & (df[\"Device\"].isnull()) &  (df[\"Group\"] == \"Expats (Venezuela)\") & (df[\"LocationType\"] == \"home_recent\") ]\n",
    "df_edu_pyramid[\"mau_man\"] = get_slice(dfcut_man, \"Education\", education_levels, frequency=\"mau\")\n",
    "df_edu_pyramid[\"dau_man\"] = get_slice(dfcut_man,  \"Education\", education_levels, frequency=\"dau\")\n",
    "\n",
    "dfcut_woman = df[(~df[\"Education\"].isnull()) & (df[\"Gender\"] == \"woman\") & (df[\"AgeBucket\"] == \"all\") & (df[\"Device\"].isnull()) &  (df[\"Group\"] == \"Expats (Venezuela)\") & (df[\"LocationType\"] == \"home_recent\") ]\n",
    "df_edu_pyramid[\"mau_woman\"] = get_slice(dfcut_woman, \"Education\", education_levels, frequency=\"mau\")\n",
    "df_edu_pyramid[\"dau_woman\"] = get_slice(dfcut_woman, \"Education\", education_levels, frequency=\"dau\")\n",
    "\n",
    "df_edu_pyramid[\"dau\"] = pd.merge(df_edu_pyramid[\"dau_man\"],df_edu_pyramid[\"dau_woman\"], on=[\"Location\",\"Frequency\"], suffixes=(\"_man\",\"_woman\"))\n",
    "df_edu_pyramid[\"mau\"] = pd.merge(df_edu_pyramid[\"mau_man\"],df_edu_pyramid[\"mau_woman\"], on=[\"Location\",\"Frequency\"], suffixes=(\"_man\",\"_woman\"))\n"
   ]
  },
  {
   "cell_type": "code",
   "execution_count": 194,
   "metadata": {
    "ExecuteTime": {
     "end_time": "2018-11-19T09:02:55.656623Z",
     "start_time": "2018-11-19T09:02:55.528951Z"
    },
    "run_control": {
     "marked": true
    }
   },
   "outputs": [],
   "source": [
    "df_edu_locals = {}\n",
    "dfcut = df[~(df[\"Education\"].isnull()) & (df[\"Device\"].isnull()) & (df[\"AgeBucket\"] == \"all\") &\n",
    "    (df[\"Group\"].isnull()) & (df[\"Gender\"] == \"both\") & (df[\"LocationType\"] == \"home_recent\") ].copy()\n",
    "df_edu_locals[\"mau\"] = get_slice(dfcut, \"Education\", education_levels, frequency=\"mau\") \n",
    "df_edu_locals[\"dau\"] = get_slice(dfcut, \"Education\", education_levels, frequency=\"dau\")\n",
    "\n",
    "calculate_percentages(df_edu_locals[\"mau\"], education_levels, \"%locals_\")\n",
    "calculate_percentages(df_edu_locals[\"dau\"], education_levels, \"%locals_\")\n",
    "\n",
    "for col in education_levels:\n",
    "    del df_edu_locals[\"mau\"][\"audience_\" + col]\n",
    "    del df_edu_locals[\"dau\"][\"audience_\" + col]\n"
   ]
  },
  {
   "cell_type": "code",
   "execution_count": 195,
   "metadata": {
    "ExecuteTime": {
     "end_time": "2018-11-19T09:02:56.873077Z",
     "start_time": "2018-11-19T09:02:56.823519Z"
    },
    "run_control": {
     "marked": true
    }
   },
   "outputs": [],
   "source": [
    "for dfopt in [dfgender, dfage, dfedu, dfdevice, dfloctype, \n",
    "              df_age_pyramid, df_edu_pyramid, df_device_pyramid, df_loctype_pyramid,\n",
    "              df_age_locals, df_edu_locals, df_device_locals,  df_loctype_locals]:\n",
    "    dfopt[\"dau\"] = dfopt[\"dau\"].drop_duplicates()\n",
    "    dfopt[\"mau\"] = dfopt[\"mau\"].drop_duplicates()"
   ]
  },
  {
   "cell_type": "code",
   "execution_count": 196,
   "metadata": {
    "ExecuteTime": {
     "end_time": "2018-11-19T09:02:58.534433Z",
     "start_time": "2018-11-19T09:02:58.109611Z"
    },
    "code_folding": [
     17,
     48,
     50
    ],
    "run_control": {
     "marked": true
    }
   },
   "outputs": [
    {
     "name": "stdout",
     "output_type": "stream",
     "text": [
      "%ven_audience_man\n",
      "%ven_audience_woman\n",
      "%ven_audience_adolecent\n",
      "%ven_audience_young_adult\n",
      "%ven_audience_adult\n",
      "%ven_audience_middle_age\n",
      "%ven_audience_elder\n",
      "%locals_audience_man\n",
      "%locals_audience_woman\n",
      "%locals_audience_adolecent\n",
      "%locals_audience_young_adult\n",
      "%locals_audience_adult\n",
      "%locals_audience_middle_age\n",
      "%locals_audience_elder\n",
      "%ven_audience_iOS\n",
      "%ven_audience_Android\n",
      "%ven_audience_Other\n",
      "%locals_audience_iOS\n",
      "%locals_audience_Android\n",
      "%locals_audience_Other\n",
      "%ven_audience_graduated\n",
      "%ven_audience_high_school\n",
      "%ven_audience_no_degree\n",
      "%locals_audience_graduated\n",
      "%locals_audience_high_school\n",
      "%locals_audience_no_degree\n",
      "%diff_audience_man\n",
      "%diff_audience_woman\n",
      "%diff_audience_adolecent\n",
      "%diff_audience_young_adult\n",
      "%diff_audience_adult\n",
      "%diff_audience_middle_age\n",
      "%diff_audience_elder\n",
      "%diff_audience_graduated\n",
      "%diff_audience_high_school\n",
      "%diff_audience_no_degree\n",
      "%diff_audience_iOS\n",
      "%diff_audience_Android\n",
      "%diff_audience_Other\n",
      "Saved file merged_11_18.csv\n"
     ]
    }
   ],
   "source": [
    "merged = {}\n",
    "\n",
    "dfs_to_check = [dfloctype, df_loctype_locals, df_loctype_pyramid]\n",
    "\n",
    "merged[\"mau\"] = pd.merge(dfgender[\"mau\"], dfage[\"mau\"]).merge(df_gender_locals[\"mau\"])     \n",
    "merged[\"mau\"] = merged[\"mau\"].merge(df_age_locals[\"mau\"]).merge(df_age_pyramid[\"mau\"])\n",
    "for d in dfs_to_check:\n",
    "    if not d[\"mau\"].empty:\n",
    "        merged[\"mau\"] = merged[\"mau\"].merge(d[\"mau\"])\n",
    "\n",
    "merged[\"dau\"] = pd.merge(dfgender[\"dau\"], dfage[\"dau\"]).merge(df_gender_locals[\"dau\"])\n",
    "merged[\"dau\"] = merged[\"dau\"].merge(df_age_locals[\"dau\"]).merge(df_age_pyramid[\"dau\"])\n",
    "for d in dfs_to_check:\n",
    "    if not d[\"dau\"].empty:\n",
    "        merged[\"dau\"] = merged[\"dau\"].merge(d[\"dau\"])\n",
    "\n",
    "if not dfdevice[\"mau\"].empty:\n",
    "    merged[\"mau\"] = merged[\"mau\"].merge(dfdevice[\"mau\"]).merge(df_device_pyramid[\"mau\"]).merge(df_device_locals[\"mau\"])\n",
    "    merged[\"dau\"] = merged[\"dau\"].merge(dfdevice[\"dau\"]).merge(df_device_pyramid[\"dau\"]).merge(df_device_locals[\"dau\"])\n",
    "    \n",
    "if not dfedu[\"mau\"].empty:\n",
    "    merged[\"mau\"] = merged[\"mau\"].merge(dfedu[\"mau\"]).merge(df_edu_pyramid[\"mau\"]).merge(df_edu_locals[\"mau\"])\n",
    "    merged[\"dau\"] = merged[\"dau\"].merge(dfedu[\"dau\"]).merge(df_edu_pyramid[\"dau\"]).merge(df_edu_locals[\"dau\"])\n",
    "       \n",
    "concated = pd.concat([merged[\"mau\"], merged[\"dau\"]])\n",
    "\n",
    "venezuelans = df[(df[\"Education\"].isnull()) & (df[\"Device\"].isnull()) & (df[\"AgeBucket\"] == \"all\") & (df[\"Group\"] == \"Expats (Venezuela)\") & (df[\"Gender\"] == \"both\") & (df[\"LocationType\"] == \"home_recent\")]\n",
    "allmigrants = df[(df[\"Education\"].isnull()) & (df[\"Device\"].isnull()) & (df[\"AgeBucket\"] == \"all\") & (df[\"Group\"] == \"Ex-pats (All)\") & (df[\"Gender\"] == \"both\") & (df[\"LocationType\"] == \"home_recent\")]\n",
    "allpopulation = df[(df[\"Education\"].isnull()) & (df[\"Device\"].isnull()) & (df[\"AgeBucket\"] == \"all\") & (df[\"Group\"].isnull()) & (df[\"Gender\"] == \"both\") & (df[\"LocationType\"] == \"home_recent\")]\n",
    "\n",
    "dffinal = pd.merge(venezuelans[[\"dau_audience\",\"mau_audience\",\"Location\",\"LocationHierarchy\"]], concated)\n",
    "dffinal[\"venezuelans\"] = dffinal[\"mau_audience\"].where( dffinal[\"Frequency\"]==\"Monthly\", dffinal[\"dau_audience\"]) \n",
    "del dffinal[\"mau_audience\"]\n",
    "del dffinal[\"dau_audience\"]\n",
    "\n",
    "dffinal = pd.merge(allmigrants[[\"dau_audience\",\"mau_audience\",\"Location\",\"LocationHierarchy\"]], dffinal)\n",
    "dffinal[\"allmigrants\"] = dffinal[\"mau_audience\"].where( dffinal[\"Frequency\"]==\"Monthly\", dffinal[\"dau_audience\"]) \n",
    "del dffinal[\"mau_audience\"]\n",
    "del dffinal[\"dau_audience\"]\n",
    "\n",
    "dffinal = pd.merge(allpopulation[[\"dau_audience\",\"mau_audience\",\"Location\",\"LocationHierarchy\"]], dffinal)\n",
    "dffinal[\"allpopulation\"] = dffinal[\"mau_audience\"].where( dffinal[\"Frequency\"]==\"Monthly\", dffinal[\"dau_audience\"]) \n",
    "del dffinal[\"mau_audience\"]\n",
    "del dffinal[\"dau_audience\"]\n",
    "\n",
    "dffinal[\"ven/migrants\"] = dffinal[\"venezuelans\"] / dffinal[\"allmigrants\"]\n",
    "dffinal[\"ven/pop\"] = dffinal[\"venezuelans\"] / dffinal[\"allpopulation\"]\n",
    "\n",
    "dffinal[\"100ven/migrants\"] = 100. * dffinal[\"ven/migrants\"]\n",
    "dffinal[\"100ven/pop\"] = 100. * dffinal[\"ven/pop\"]\n",
    "\n",
    "for trans_col in [\"ven/migrants\", \"ven/pop\"]:\n",
    "    dffinal[trans_col] = dffinal[trans_col].apply(lambda x: \"%.4f\" % x)\n",
    "for trans_col in [\"100ven/migrants\", \"100ven/pop\"]:\n",
    "    dffinal[trans_col] = dffinal[trans_col].apply(lambda x: \"%.2f\" % x)\n",
    "\n",
    "dffinal[\"not_enough_data\"] = False\n",
    "dffinal.loc[dffinal[\"venezuelans\"] <= 1000, \"not_enough_data\"] = True \n",
    "\n",
    "for col in [\"home\",\"recent\"] + [\"man\",\"woman\"] + [\"adolecent\",\"young_adult\",\"adult\",\"middle_age\", \"elder\"] + [\"graduated\", \"high_school\", \"no_degree\"] +  [\"iOS\",\"Android\",\"Other\"]:\n",
    "    if \"%ven_audience_\" + col in dffinal:\n",
    "        dffinal[\"%diff_audience_\" + col] = dffinal[\"%ven_audience_\" + col] - dffinal[\"%locals_audience_\" + col]\n",
    "\n",
    "\n",
    "ramv = pd.read_csv(\"ramv.csv\")[[\"Location\",\"ramv_venezuelans\"]]\n",
    "dffinal = pd.merge(dffinal, ramv, on=\"Location\", how=\"left\")\n",
    "\n",
    "dffinal[\"fb/ramv\"] =  dffinal[\"venezuelans\"] / dffinal[\"ramv_venezuelans\"]\n",
    "\n",
    "for col in dffinal.keys():\n",
    "    if col.startswith(\"%\"):\n",
    "        print(col)\n",
    "        dffinal[col] = dffinal[col].round(2)\n",
    "\n",
    "for key in dffinal.keys():\n",
    "    if key.startswith(\"audience_\"):\n",
    "        dffinal[\"display_\"+key] = dffinal[key].apply(lambda x: display(x))\n",
    "    \n",
    "dffinal.to_csv(\"merged_%s_%s.csv\" % (month, day), index=False)\n",
    "print(\"Saved file merged_%s_%s.csv\" % (month, day))"
   ]
  },
  {
   "cell_type": "markdown",
   "metadata": {},
   "source": [
    "# CORRELATIONS"
   ]
  },
  {
   "cell_type": "code",
   "execution_count": 111,
   "metadata": {
    "ExecuteTime": {
     "end_time": "2018-11-19T06:56:57.654339Z",
     "start_time": "2018-11-19T06:56:57.620782Z"
    }
   },
   "outputs": [
    {
     "name": "stdout",
     "output_type": "stream",
     "text": [
      "Pearson: 0.99, Kendall: 0.85, Spearman: 0.95\n",
      "Estimates from Latin America. PDF: 2076500, FB: 2789600\n"
     ]
    },
    {
     "data": {
      "text/html": [
       "<div>\n",
       "<style scoped>\n",
       "    .dataframe tbody tr th:only-of-type {\n",
       "        vertical-align: middle;\n",
       "    }\n",
       "\n",
       "    .dataframe tbody tr th {\n",
       "        vertical-align: top;\n",
       "    }\n",
       "\n",
       "    .dataframe thead th {\n",
       "        text-align: right;\n",
       "    }\n",
       "</style>\n",
       "<table border=\"1\" class=\"dataframe\">\n",
       "  <thead>\n",
       "    <tr style=\"text-align: right;\">\n",
       "      <th></th>\n",
       "      <th>Location</th>\n",
       "      <th>venezuelans_PDF</th>\n",
       "      <th>venezuelans_FB</th>\n",
       "    </tr>\n",
       "  </thead>\n",
       "  <tbody>\n",
       "    <tr>\n",
       "      <th>0</th>\n",
       "      <td>Colombia</td>\n",
       "      <td>935000</td>\n",
       "      <td>1300000.0</td>\n",
       "    </tr>\n",
       "    <tr>\n",
       "      <th>1</th>\n",
       "      <td>Peru</td>\n",
       "      <td>414000</td>\n",
       "      <td>520000.0</td>\n",
       "    </tr>\n",
       "    <tr>\n",
       "      <th>3</th>\n",
       "      <td>Chile</td>\n",
       "      <td>105000</td>\n",
       "      <td>260000.0</td>\n",
       "    </tr>\n",
       "    <tr>\n",
       "      <th>2</th>\n",
       "      <td>Ecuador</td>\n",
       "      <td>215000</td>\n",
       "      <td>220000.0</td>\n",
       "    </tr>\n",
       "    <tr>\n",
       "      <th>4</th>\n",
       "      <td>Argentina</td>\n",
       "      <td>95000</td>\n",
       "      <td>130000.0</td>\n",
       "    </tr>\n",
       "    <tr>\n",
       "      <th>8</th>\n",
       "      <td>Mexico</td>\n",
       "      <td>32500</td>\n",
       "      <td>100000.0</td>\n",
       "    </tr>\n",
       "    <tr>\n",
       "      <th>5</th>\n",
       "      <td>Panama</td>\n",
       "      <td>76000</td>\n",
       "      <td>81000.0</td>\n",
       "    </tr>\n",
       "    <tr>\n",
       "      <th>6</th>\n",
       "      <td>Brazil</td>\n",
       "      <td>75000</td>\n",
       "      <td>73000.0</td>\n",
       "    </tr>\n",
       "    <tr>\n",
       "      <th>9</th>\n",
       "      <td>Dominican Republic</td>\n",
       "      <td>26000</td>\n",
       "      <td>52000.0</td>\n",
       "    </tr>\n",
       "    <tr>\n",
       "      <th>10</th>\n",
       "      <td>Costa Rica</td>\n",
       "      <td>25000</td>\n",
       "      <td>16000.0</td>\n",
       "    </tr>\n",
       "    <tr>\n",
       "      <th>7</th>\n",
       "      <td>Trinidad and Tobago</td>\n",
       "      <td>40000</td>\n",
       "      <td>11000.0</td>\n",
       "    </tr>\n",
       "    <tr>\n",
       "      <th>12</th>\n",
       "      <td>Uruguay</td>\n",
       "      <td>8500</td>\n",
       "      <td>9900.0</td>\n",
       "    </tr>\n",
       "    <tr>\n",
       "      <th>13</th>\n",
       "      <td>Bolivia</td>\n",
       "      <td>5000</td>\n",
       "      <td>7200.0</td>\n",
       "    </tr>\n",
       "    <tr>\n",
       "      <th>11</th>\n",
       "      <td>Guyana</td>\n",
       "      <td>24000</td>\n",
       "      <td>5000.0</td>\n",
       "    </tr>\n",
       "    <tr>\n",
       "      <th>14</th>\n",
       "      <td>Paraguay</td>\n",
       "      <td>500</td>\n",
       "      <td>4500.0</td>\n",
       "    </tr>\n",
       "  </tbody>\n",
       "</table>\n",
       "</div>"
      ],
      "text/plain": [
       "               Location  venezuelans_PDF  venezuelans_FB\n",
       "0              Colombia           935000       1300000.0\n",
       "1                  Peru           414000        520000.0\n",
       "3                 Chile           105000        260000.0\n",
       "2               Ecuador           215000        220000.0\n",
       "4             Argentina            95000        130000.0\n",
       "8                Mexico            32500        100000.0\n",
       "5                Panama            76000         81000.0\n",
       "6                Brazil            75000         73000.0\n",
       "9    Dominican Republic            26000         52000.0\n",
       "10           Costa Rica            25000         16000.0\n",
       "7   Trinidad and Tobago            40000         11000.0\n",
       "12              Uruguay             8500          9900.0\n",
       "13              Bolivia             5000          7200.0\n",
       "11               Guyana            24000          5000.0\n",
       "14             Paraguay              500          4500.0"
      ]
     },
     "execution_count": 111,
     "metadata": {},
     "output_type": "execute_result"
    }
   ],
   "source": [
    "# Correlation with 20180926_Stocks_de_Poblacion_Venezoelana_en_la_region.pdf\n",
    "pdf = [[\"Mexico\",32500], [\"Costa Rica\",25000], [\"Panama\",76000], [\"Colombia\",935000], [\"Ecuador\",215000], [\"Peru\",414000], [\"Bolivia\",5000], [\"Chile\",105000],\n",
    "       [\"Argentina\",95000], [\"Uruguay\",8500], [\"Paraguay\",500], [\"Brazil\",75000], [\"Guyana\",24000], [\"Trinidad and Tobago\",40000], [\"Dominican Republic\",26000],\n",
    "       [\"Latin America\",2000000], [\"World\", 2600000]]\n",
    "\n",
    "pdf = pd.DataFrame(pdf, columns=[\"Location\",\"venezuelans\"]).sort_values(by=\"venezuelans\", ascending=False).reset_index(drop=True)\n",
    "countries_pdf = set(pdf[\"Location\"])\n",
    "\n",
    "finalslice = dffinal[(dffinal[\"Location\"].apply(lambda x: x in countries_pdf)) & (dffinal[\"Frequency\"] == \"Monthly\")][[\"Location\",\"venezuelans\"]]\n",
    "\n",
    "mergedpdf = pd.merge(pdf, finalslice, on=\"Location\", suffixes=(\"_PDF\", \"_FB\"))\n",
    "\n",
    "print(\"Pearson: %.2f, Kendall: %.2f, Spearman: %.2f\" % (mergedpdf.corr(method=\"pearson\")[\"venezuelans_PDF\"][\"venezuelans_FB\"], \n",
    "                                                        mergedpdf.corr(method=\"kendall\")[\"venezuelans_PDF\"][\"venezuelans_FB\"], \n",
    "                                                        mergedpdf.corr(method=\"spearman\")[\"venezuelans_PDF\"][\"venezuelans_FB\"]))\n",
    "\n",
    "print(\"Estimates from Latin America. PDF: %d, FB: %d\" % (mergedpdf.sum()[\"venezuelans_PDF\"], mergedpdf.sum()[\"venezuelans_FB\"]))\n",
    "mergedpdf.sort_values(by=\"venezuelans_FB\", ascending=False)"
   ]
  },
  {
   "cell_type": "code",
   "execution_count": 174,
   "metadata": {
    "ExecuteTime": {
     "end_time": "2018-11-19T08:13:38.361829Z",
     "start_time": "2018-11-19T08:13:38.200349Z"
    }
   },
   "outputs": [
    {
     "data": {
      "image/png": "[encoded data removed]",
      "text/plain": [
       "<Figure size 432x288 with 1 Axes>"
      ]
     },
     "metadata": {},
     "output_type": "display_data"
    }
   ],
   "source": [
    "country = \"Brazil\"\n",
    "location = dffinal[(dffinal[\"Location\"] == country) & (dffinal[\"Frequency\"] == \"Monthly\")]\n",
    "\n",
    "n_groups = 6\n",
    "\n",
    "total_man = location[\"audience_man\"].values[0]\n",
    "total_woman = location[\"audience_woman\"].values[0]\n",
    "means_men, means_women  = [], []\n",
    "\n",
    "for group in [\"adolecent\", \"young_adult\", \"adult\", \"middle_age\", \"elder\"]:\n",
    "    means_men.append( 1.0 * location[\"audience_\" + group + \"_man\"].values[0] / total_man)\n",
    "    means_women.append( 1.0 * location[\"audience_\" + group + \"_woman\"].values[0] / total_man)\n",
    " \n",
    "\n",
    "means_men.append(1.0 * location[\"audience_man\"].values[0] / (total_man + total_woman))\n",
    "means_women.append(1.0 * location[\"audience_woman\"].values[0] / (total_man + total_woman))\n",
    "\n",
    "import matplotlib.pyplot as plt\n",
    "#fig, ax = plt.subplots(figsize=(4,4))\n",
    "fig, ax = plt.subplots()\n",
    "\n",
    "index = np.arange(n_groups)\n",
    "bar_width = 0.35\n",
    "\n",
    "opacity = 0.99\n",
    "\n",
    "rects1 = ax.barh(index, means_men, bar_width,\n",
    "                alpha=opacity, color='#FBBC31',\n",
    "                label='Men')\n",
    "\n",
    "rects2 = ax.barh(index + bar_width, means_women, bar_width,\n",
    "                alpha=opacity, color='#F2743C',\n",
    "                label='Women')\n",
    "\n",
    "ax.set_title(country)\n",
    "ax.set_yticks(index + bar_width / 2)\n",
    "ax.set_yticklabels(('13-18', '19-25', '26-40', '41-65', '65+', 'Total'))\n",
    "ax.legend()\n",
    "\n",
    "fig.tight_layout()\n",
    "plt.show()\n"
   ]
  },
  {
   "cell_type": "code",
   "execution_count": null,
   "metadata": {
    "ExecuteTime": {
     "end_time": "2018-11-14T14:10:24.077232Z",
     "start_time": "2018-11-14T14:10:24.063676Z"
    },
    "run_control": {
     "marked": true
    }
   },
   "outputs": [],
   "source": [
    "# Extra....Ingore this cell\n",
    "\n",
    "dfcut = dffinal[(dffinal[\"Frequency\"] == \"Monthly\") & (dffinal[\"venezuelans\"] > 1000)]\n",
    "#print(\"Pearson: %.2f, Spearman: %.2f, Kendall: %.2f\" % (dffinal.corr(\"pearson\")[\"ramv_venezuelans\"][\"venezuelans\"], dffinal.corr(\"spearman\")[\"ramv_venezuelans\"][\"venezuelans\"], dffinal.corr(\"kendall\")[\"ramv_venezuelans\"][\"venezuelans\"]))\n",
    "\n",
    "dfcut[\"FB_venezuelans\"] = dfcut[\"venezuelans\"] \n",
    "del dfcut[\"venezuelans\"] \n",
    "dfcut = dfcut[[\"Location\", \"FB_venezuelans\", \"ramv_venezuelans\", \"fb/ramv\"]]\n",
    "\n",
    "dfcut = dfcut.sort_values(\"FB_venezuelans\", ascending=False)\n",
    "dfcut.dropna(subset=[\"ramv_venezuelans\"], inplace=True)\n",
    "dfcut.reset_index(inplace=True, drop=True)\n",
    "\n",
    "print(tabulate(dfcut, headers='keys', tablefmt='psql'))"
   ]
  }
 ],
 "metadata": {
  "kernelspec": {
   "display_name": "Python 3",
   "language": "python",
   "name": "python3"
  },
  "language_info": {
   "codemirror_mode": {
    "name": "ipython",
    "version": 3
   },
   "file_extension": ".py",
   "mimetype": "text/x-python",
   "name": "python",
   "nbconvert_exporter": "python",
   "pygments_lexer": "ipython3",
   "version": "3.6.7"
  },
  "varInspector": {
   "cols": {
    "lenName": 16,
    "lenType": 16,
    "lenVar": 40
   },
   "kernels_config": {
    "python": {
     "delete_cmd_postfix": "",
     "delete_cmd_prefix": "del ",
     "library": "var_list.py",
     "varRefreshCmd": "print(var_dic_list())"
    },
    "r": {
     "delete_cmd_postfix": ") ",
     "delete_cmd_prefix": "rm(",
     "library": "var_list.r",
     "varRefreshCmd": "cat(var_dic_list()) "
    }
   },
   "types_to_exclude": [
    "module",
    "function",
    "builtin_function_or_method",
    "instance",
    "_Feature"
   ],
   "window_display": false
  }
 },
 "nbformat": 4,
 "nbformat_minor": 2
}
