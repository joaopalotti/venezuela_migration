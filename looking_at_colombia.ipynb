{
 "cells": [
  {
   "cell_type": "code",
   "execution_count": 109,
   "metadata": {
    "ExecuteTime": {
     "end_time": "2018-05-27T09:24:21.064899Z",
     "start_time": "2018-05-27T09:24:21.061497Z"
    }
   },
   "outputs": [],
   "source": [
    "import json\n",
    "import pandas as pd\n",
    "import ast\n",
    "import datetime"
   ]
  },
  {
   "cell_type": "code",
   "execution_count": 110,
   "metadata": {
    "ExecuteTime": {
     "end_time": "2018-05-27T09:24:22.133363Z",
     "start_time": "2018-05-27T09:24:22.127845Z"
    },
    "code_folding": [
     0
    ]
   },
   "outputs": [],
   "source": [
    "def convert_unixtime(utime):\n",
    "    return (datetime.datetime.fromtimestamp(int(utime)).strftime('%d-%m'))\n",
    "\n",
    "def convert_country_code(code):\n",
    "    mapping = {\"CO\":\"Colombia\", \"BR\": \"Brazil\", \"VE\": \"Venezuela\", \"PE\": \"Peru\", \"PY\": \"Paraguay\", \"PA\": \"Panama\", \"CL\": \"Chile\", \"EC\":\"Ecuador\"}\n",
    "    return mapping[code]\n",
    "    "
   ]
  },
  {
   "cell_type": "code",
   "execution_count": 111,
   "metadata": {
    "ExecuteTime": {
     "end_time": "2018-05-27T09:24:23.180353Z",
     "start_time": "2018-05-27T09:24:22.799425Z"
    }
   },
   "outputs": [],
   "source": [
    "#infile = \"collections/colombia/dataframe_collected_finished_1527055300.csv\" # Collected on 23 may, cities and state level\n",
    "#infile = \"collections/colombia/dataframe_collected_finished_1526754549.csv\" # Collected on 19 may, cities and state\n",
    "#infile = \"collections/colombia/dataframe_collected_finished_1527086071.csv\" # From May 23 colombian state\n",
    "#infile = \"collections/colombia/dataframe_collected_finished_1527262566.csv\" # From May 25th\n",
    "infile = \"collections/colombia/dataframe_collected_finished_1527336923.csv\"\n",
    "\n",
    "df = pd.read_csv(infile)\n",
    "#df[\"CollectionDay\"] = df[\"timestamp\"].apply(lambda x: convert_unixtime(x))\n",
    "\n",
    "#print(\"Collection made in %s\" % (df[\"CollectionDay\"].head()[0]))"
   ]
  },
  {
   "cell_type": "code",
   "execution_count": 112,
   "metadata": {
    "ExecuteTime": {
     "end_time": "2018-05-27T09:24:37.366684Z",
     "start_time": "2018-05-27T09:24:23.754822Z"
    },
    "code_folding": [
     0,
     10,
     31,
     75
    ]
   },
   "outputs": [
    {
     "name": "stdout",
     "output_type": "stream",
     "text": [
      "Updating Group information...\n",
      "Adding information regarding devices...\n"
     ]
    }
   ],
   "source": [
    "def extract_relationship(d):\n",
    "    if 1 in d:\n",
    "        return \"single\"\n",
    "    elif 2 in d:\n",
    "        return \"dating\"\n",
    "    elif 3 in d:\n",
    "        return \"married\"\n",
    "    else:\n",
    "        return None\n",
    "\n",
    "def extract_education(d):\n",
    "    if d == [3, 7, 8, 9, 11]:\n",
    "        return \"graduated\"\n",
    "    elif d == [1, 12, 13]:\n",
    "        return \"no_degree\"\n",
    "    elif d == [2, 4, 5, 6, 10]:\n",
    "        return \"high_school\"\n",
    "    elif d == [1, 2, 3, 4, 5, 6, 7, 8, 9, 10, 11, 12, 13]:\n",
    "        return \"all\"\n",
    "    else:\n",
    "        return None\n",
    "\n",
    "def extract_group(d):\n",
    "    id = d[0][\"id\"]\n",
    "    if id == 6026404871583:\n",
    "        return \"Expats (Venezuela)\"\n",
    "    elif id == 6015559470583:\n",
    "        return \"Ex-pats (All)\"\n",
    "    else:\n",
    "        return \"All\"\n",
    "\n",
    "def agebuckets(minage, maxage):\n",
    "    if minage == 13 and (maxage is None or np.isnan(maxage)):\n",
    "        return \"all\"\n",
    "    elif minage == 13 and maxage == 18:\n",
    "        return \"adolecent\"\n",
    "    elif minage == 19 and maxage == 25:\n",
    "        return \"young_adult\"\n",
    "    elif minage == 26 and maxage == 40:\n",
    "        return \"adult\"\n",
    "    elif minage == 41 and maxage == 65:\n",
    "        return \"middle_age\"\n",
    "    elif minage == 65 and (maxage is None or np.isnan(maxage)):\n",
    "        return \"elder\"\n",
    "    return \"undefined\"\n",
    "    \n",
    "def expand(row):\n",
    "    place = None\n",
    "    loc_dimension = None\n",
    "    if \"regions\" in row[\"geo_locations\"]:\n",
    "        place = \"%s, %s\" % (row[\"geo_locations\"][\"regions\"][0][\"name\"], convert_country_code(row[\"geo_locations\"][\"regions\"][0][\"country_code\"]))\n",
    "        loc_dimension = \"State\"\n",
    "    elif \"countries\" in row[\"geo_locations\"]:\n",
    "        place = convert_country_code(row[\"geo_locations\"][\"countries\"][0])\n",
    "        loc_dimension = \"Country\"\n",
    "    elif \"cities\" in row[\"geo_locations\"]:\n",
    "        place = \"%s, %s, %s\" % (row[\"geo_locations\"][\"cities\"][0][\"name\"], row[\"geo_locations\"][\"cities\"][0][\"region\"], convert_country_code(row[\"geo_locations\"][\"cities\"][0][\"country\"]))\n",
    "        loc_dimension = \"City\"\n",
    "    \n",
    "    loctype = \"_\".join(row[\"geo_locations\"][\"location_types\"])\n",
    "\n",
    "    relationship, education, group = None, None, None\n",
    "    for dimension in row[\"flexible_spec\"]:\n",
    "        if \"relationship_statuses\" in dimension:\n",
    "            relationship = extract_relationship(dimension[\"relationship_statuses\"])\n",
    "        elif \"education_statuses\" in dimension:\n",
    "            education = extract_education(dimension[\"education_statuses\"])\n",
    "        elif \"behaviors\" in dimension:\n",
    "            group = extract_group(dimension[\"behaviors\"])\n",
    "    \n",
    "    gender = row[\"genders\"][0]\n",
    "    gender = \"both\" if gender == 0 else \"man\" if gender == 1 else \"woman\"\n",
    "    \n",
    "    return row[\"age_min\"], row[\"age_max\"], place, loc_dimension, loctype, gender, relationship, education, group\n",
    "\n",
    "def get_item(x):\n",
    "    if not x:\n",
    "        return None\n",
    "    return x[\"name\"]\n",
    "\n",
    "df[[\"MinAge\",\"MaxAge\",\"Location\",\"LocationHierarch\",\"LocationType\",\"Gender\",\"Relationship\",\"Educaton\",\"Group\"]] = df[\"targeting\"].apply(lambda x : expand(ast.literal_eval(x))).apply(pd.Series)\n",
    "\n",
    "if \"citizenship\" in df:\n",
    "    df[\"Group\"] = df[\"citizenship\"].fillna(\"[]\").apply(lambda x : get_item(ast.literal_eval(x)))\n",
    "    print(\"Updating Group information...\")\n",
    "    \n",
    "if \"access_device\" in df:\n",
    "    df[\"Device\"] = df[\"access_device\"].fillna(\"[]\").apply(lambda x : get_item(ast.literal_eval(x)))\n",
    "    print(\"Adding information regarding devices...\")\n",
    "    \n",
    "df[\"agebucket\"] = df[[\"MinAge\",\"MaxAge\"]].apply(lambda x: agebuckets(x[\"MinAge\"], x[\"MaxAge\"]), axis=1)\n",
    "\n",
    "# Brief description: \n",
    "# -----------------\n",
    "# Gender: 0 Both, 1 Man, 2 Woman\n",
    "# Age: 13-Null, 13-18, 19-25, 26-40, 40,65, 65+\n",
    "# LocationType: home_recent, home, recent\n"
   ]
  },
  {
   "cell_type": "code",
   "execution_count": 113,
   "metadata": {
    "ExecuteTime": {
     "end_time": "2018-05-27T09:24:37.813921Z",
     "start_time": "2018-05-27T09:24:37.805588Z"
    },
    "code_folding": [
     3,
     11
    ]
   },
   "outputs": [],
   "source": [
    "def cut(df, col, values, savedcols= ['Location', 'dau_audience', 'mau_audience']):\n",
    "    df_slice = {}\n",
    "    \n",
    "    for i, v in enumerate(values):\n",
    "        df_slice[i] = df[df[col] == v][savedcols]\n",
    "    \n",
    "    merge = pd.merge(df_slice[0], df_slice[1], on=[\"Location\"], suffixes=(\"_%s\" % (values[0]), \"_%s\" % (values[1])))\n",
    "    for i in range(2, len(values)):\n",
    "        #print(\"Adding suffix for:\" + values[i])\n",
    "        merge = pd.merge(merge, df_slice[i], on=[\"Location\"], suffixes=(\"\", \"_%s\" % (values[i])))\n",
    "        \n",
    "    if len(values) > 2:\n",
    "        # Fix information for the second group.\n",
    "        merge[\"audience_%s\" % (values[2])] = merge[\"audience\"]\n",
    "        del merge[\"audience\"]\n",
    "    return merge   \n",
    "\n",
    "def copy_rename(df, oldname, newname):\n",
    "    return df.rename(columns={oldname: newname}).copy() \n",
    "\n",
    "def get_slice(dfin, col, values, frequency=\"mau\"):\n",
    "    dfout = copy_rename(dfin, '%s_audience' % (frequency), \"audience\")\n",
    "    dfout = cut(dfout, col, values, savedcols=['Location', 'audience'])\n",
    "    dfout[\"Frequency\"] = \"Daily\" if frequency == \"dau\" else \"Monthly\"\n",
    "    return dfout\n"
   ]
  },
  {
   "cell_type": "code",
   "execution_count": 114,
   "metadata": {
    "ExecuteTime": {
     "end_time": "2018-05-27T09:24:38.251663Z",
     "start_time": "2018-05-27T09:24:38.188181Z"
    }
   },
   "outputs": [],
   "source": [
    "dfgender = {}\n",
    "dfcut = df[(df[\"Device\"].isnull()) & (df[\"agebucket\"] == \"all\") & (df[\"Group\"] == \"Expats (Venezuela)\") & (df[\"Gender\"].apply(lambda x : x in [\"man\",\"woman\"])) & (df[\"LocationType\"] == \"home_recent\")].copy()\n",
    "dfgender[\"mau\"] = get_slice(dfcut, \"Gender\", [\"man\",\"woman\"], frequency=\"mau\")\n",
    "dfgender[\"dau\"] = get_slice(dfcut, \"Gender\", [\"man\",\"woman\"], frequency=\"dau\")"
   ]
  },
  {
   "cell_type": "code",
   "execution_count": 115,
   "metadata": {
    "ExecuteTime": {
     "end_time": "2018-05-27T09:24:38.679826Z",
     "start_time": "2018-05-27T09:24:38.609820Z"
    },
    "code_folding": []
   },
   "outputs": [],
   "source": [
    "dfage = {}\n",
    "dfcut = df[(df[\"Device\"].isnull()) &  (df[\"agebucket\"].apply(lambda x : x in [\"adolecent\",\"young_adult\",\"adult\",\"middle_age\", \"elder\"])) &\n",
    "    (df[\"Group\"] == \"Expats (Venezuela)\") & (df[\"Gender\"] == \"both\") & (df[\"LocationType\"] == \"home_recent\") ].copy()\n",
    "dfage[\"mau\"] = get_slice(dfcut, \"agebucket\", [\"adolecent\",\"young_adult\",\"adult\",\"middle_age\", \"elder\"], frequency=\"mau\") # Adult is missing...need to check why.\n",
    "dfage[\"dau\"] = get_slice(dfcut, \"agebucket\", [\"adolecent\",\"young_adult\",\"adult\",\"middle_age\", \"elder\"], frequency=\"dau\")"
   ]
  },
  {
   "cell_type": "code",
   "execution_count": 116,
   "metadata": {
    "ExecuteTime": {
     "end_time": "2018-05-27T09:24:39.109719Z",
     "start_time": "2018-05-27T09:24:39.056890Z"
    }
   },
   "outputs": [],
   "source": [
    "dfloctype = {}\n",
    "dfcut = df[(df[\"Device\"].isnull()) & (df[\"agebucket\"] == \"all\") & (df[\"Group\"] == \"Expats (Venezuela)\") & (df[\"Gender\"] == \"both\") & (df[\"LocationType\"].apply(lambda x : x in [\"home\",\"recent\"]))]\n",
    "dfloctype[\"mau\"] = get_slice(dfcut, \"LocationType\", [\"home\",\"recent\"], frequency=\"mau\")\n",
    "dfloctype[\"dau\"] = get_slice(dfcut, \"LocationType\", [\"home\",\"recent\"], frequency=\"dau\")"
   ]
  },
  {
   "cell_type": "code",
   "execution_count": 117,
   "metadata": {
    "ExecuteTime": {
     "end_time": "2018-05-27T09:24:39.570182Z",
     "start_time": "2018-05-27T09:24:39.521863Z"
    }
   },
   "outputs": [],
   "source": [
    "dfdevice = {}\n",
    "dfcut = df[(~df[\"Device\"].isnull()) & (df[\"agebucket\"] == \"all\") &  (df[\"Group\"] == \"Expats (Venezuela)\") & (df[\"Gender\"] == \"both\") & (df[\"LocationType\"] == \"home_recent\") ]\n",
    "dfdevice[\"mau\"] = get_slice(dfcut, \"Device\", [\"iOS\",\"Android\",\"Other\"], frequency=\"mau\")\n",
    "dfdevice[\"dau\"] = get_slice(dfcut, \"Device\", [\"iOS\",\"Android\",\"Other\"], frequency=\"dau\")"
   ]
  },
  {
   "cell_type": "code",
   "execution_count": 118,
   "metadata": {
    "ExecuteTime": {
     "end_time": "2018-05-27T09:24:39.950483Z",
     "start_time": "2018-05-27T09:24:39.934460Z"
    }
   },
   "outputs": [],
   "source": [
    "for dfopt in [dfgender, dfage, dfloctype,dfdevice]:\n",
    "    dfopt[\"dau\"] = dfopt[\"dau\"].drop_duplicates()\n",
    "    dfopt[\"mau\"] = dfopt[\"mau\"].drop_duplicates()"
   ]
  },
  {
   "cell_type": "code",
   "execution_count": 135,
   "metadata": {
    "ExecuteTime": {
     "end_time": "2018-05-27T09:32:37.535514Z",
     "start_time": "2018-05-27T09:32:37.413095Z"
    }
   },
   "outputs": [],
   "source": [
    "merged = {}\n",
    "\n",
    "merged[\"mau\"] = pd.merge(dfgender[\"mau\"], dfloctype[\"mau\"]).merge(dfage[\"mau\"]).merge(dfdevice[\"mau\"])\n",
    "merged[\"dau\"] = pd.merge(dfgender[\"dau\"], dfloctype[\"dau\"]).merge(dfage[\"dau\"]).merge(dfdevice[\"dau\"])\n",
    "\n",
    "concated = pd.concat([merged[\"mau\"], merged[\"dau\"]])\n",
    "\n",
    "venezuelans = df[(df[\"Device\"].isnull()) & (df[\"MinAge\"] == 13) & (df[\"MaxAge\"].isnull()) & (df[\"Group\"] == \"Expats (Venezuela)\") & (df[\"Gender\"] == \"both\") & (df[\"LocationType\"] == \"home_recent\")]\n",
    "allmigrants = df[(df[\"Device\"].isnull()) & (df[\"MinAge\"] == 13) & (df[\"MaxAge\"].isnull()) & (df[\"Group\"] == \"Ex-pats (All)\") & (df[\"Gender\"] == \"both\") & (df[\"LocationType\"] == \"home_recent\")]\n",
    "allpopulation = df[(df[\"Device\"].isnull()) & (df[\"MinAge\"] == 13) & (df[\"MaxAge\"].isnull()) & (df[\"Group\"].isnull()) & (df[\"Gender\"] == \"both\") & (df[\"LocationType\"] == \"home_recent\")]\n",
    "\n",
    "dffinal = pd.merge(venezuelans[[\"dau_audience\",\"mau_audience\",\"Location\",\"LocationHierarch\"]], concated)\n",
    "dffinal[\"venezuelans\"] = dffinal[\"mau_audience\"].where( dffinal[\"Frequency\"]==\"Monthly\", dffinal[\"dau_audience\"]) \n",
    "del dffinal[\"mau_audience\"]\n",
    "del dffinal[\"dau_audience\"]\n",
    "\n",
    "dffinal = pd.merge(allmigrants[[\"dau_audience\",\"mau_audience\",\"Location\",\"LocationHierarch\"]], dffinal)\n",
    "dffinal[\"allmigrants\"] = dffinal[\"mau_audience\"].where( dffinal[\"Frequency\"]==\"Monthly\", dffinal[\"dau_audience\"]) \n",
    "del dffinal[\"mau_audience\"]\n",
    "del dffinal[\"dau_audience\"]\n",
    "\n",
    "dffinal = pd.merge(allpopulation[[\"dau_audience\",\"mau_audience\",\"Location\",\"LocationHierarch\"]], dffinal)\n",
    "dffinal[\"allpopulation\"] = dffinal[\"mau_audience\"].where( dffinal[\"Frequency\"]==\"Monthly\", dffinal[\"dau_audience\"]) \n",
    "del dffinal[\"mau_audience\"]\n",
    "del dffinal[\"dau_audience\"]\n",
    "\n",
    "dffinal[\"ven/migrants\"] = dffinal[\"venezuelans\"] / dffinal[\"allmigrants\"]\n",
    "dffinal[\"ven/pop\"] = dffinal[\"venezuelans\"] / dffinal[\"allpopulation\"]\n",
    "\n",
    "dffinal[\"100ven/migrants\"] = 100. * dffinal[\"ven/migrants\"]\n",
    "dffinal[\"100ven/pop\"] = 100. * dffinal[\"ven/pop\"]\n",
    "\n",
    "for trans_col in [\"ven/migrants\", \"ven/pop\"]:\n",
    "    dffinal[trans_col] = dffinal[trans_col].apply(lambda x: \"%.4f\" % x)\n",
    "for trans_col in [\"100ven/migrants\", \"100ven/pop\"]:\n",
    "    dffinal[trans_col] = dffinal[trans_col].apply(lambda x: \"%.2f\" % x)\n",
    "\n",
    "dffinal[\"not_enough_data\"] = False\n",
    "dffinal.loc[dffinal[\"venezuelans\"] <= 1000, \"not_enough_data\"] = True\n",
    "    \n",
    "\n",
    "    \n",
    "dffinal.to_csv(\"merged.csv\", index=False)"
   ]
  },
  {
   "cell_type": "code",
   "execution_count": null,
   "metadata": {},
   "outputs": [],
   "source": []
  }
 ],
 "metadata": {
  "kernelspec": {
   "display_name": "Python 3",
   "language": "python",
   "name": "python3"
  },
  "language_info": {
   "codemirror_mode": {
    "name": "ipython",
    "version": 3
   },
   "file_extension": ".py",
   "mimetype": "text/x-python",
   "name": "python",
   "nbconvert_exporter": "python",
   "pygments_lexer": "ipython3",
   "version": "3.6.5"
  },
  "varInspector": {
   "cols": {
    "lenName": 16,
    "lenType": 16,
    "lenVar": 40
   },
   "kernels_config": {
    "python": {
     "delete_cmd_postfix": "",
     "delete_cmd_prefix": "del ",
     "library": "var_list.py",
     "varRefreshCmd": "print(var_dic_list())"
    },
    "r": {
     "delete_cmd_postfix": ") ",
     "delete_cmd_prefix": "rm(",
     "library": "var_list.r",
     "varRefreshCmd": "cat(var_dic_list()) "
    }
   },
   "types_to_exclude": [
    "module",
    "function",
    "builtin_function_or_method",
    "instance",
    "_Feature"
   ],
   "window_display": false
  }
 },
 "nbformat": 4,
 "nbformat_minor": 2
}
